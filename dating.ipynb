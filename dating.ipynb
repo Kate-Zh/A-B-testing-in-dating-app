{
 "cells": [
  {
   "cell_type": "markdown",
   "id": "196a455a",
   "metadata": {},
   "source": [
    "## Общее описание\n",
    "Представьте, что вы работаете в крупном дейтинговом приложении.\n",
    "Помимо базовых функций, в приложении также имеется премиум-подписка, которая дает доступ к ряду важных дополнительных возможностей. Был проведен A/B тест, в рамках которого для новых пользователей из нескольких стран была изменена стоимость премиум-подписки* при покупке через две новые платежные системы. При этом стоимость пробного периода оставалась прежней.\n",
    "Проверьте:\n",
    "* Был ли эксперимент успешен в целом.\n",
    "* Проанализируйте, имеет ли нововведение смысл среди каких-либо конкретных групп пользователей.\n",
    "\n",
    "*Деньги за подписку списываются ежемесячно до тех пор, пока пользователь её не отменит.\n",
    "\n",
    "### Описание данных\n",
    "Всего есть три группы: тестовая (test), контрольная 1 (control_1) и контрольная 2 (control_2). Для каждой из них:\n",
    "\n",
    "– информация о пользователях:\n",
    "* uid – идентификатор пользователя\n",
    "* age – возраст\n",
    "* attraction_coeff – коэффициент привлекательности (от 0 до 1000, лайки/просмотры*1000)\n",
    "* coins – число монеток (внутренняя валюта)\n",
    "* country – страна  \n",
    "* visit_days – в какие дни после регистрации пользователь посещал приложение (напр. в 1, затем в 7)\n",
    "* gender – пол\n",
    "* age_filter_start  – фильтр поиска, мин. значение \n",
    "* age_filter_end  – фильтр поиска, макс. значение \n",
    "* views_count – число полученных оценок \n",
    "* was_premium – был ли когда-либо премиум (либо пробный период премиум-статуса, либо купленный за деньги)\n",
    "* is_premium –  является ли премиум\n",
    "* total_revenue – нормированная выручка\n",
    " \n",
    "– информация о платежах пользователей:\n",
    "* uid – идентификатор пользователя\n",
    "* country – страна\n",
    "* joined_at – дата и время регистрации\n",
    "* paid_at – дата и время покупки\n",
    "* revenue – нормированная выручка\n",
    "* payment_id – идентификатор платежа\n",
    "* from_page – откуда пользователь перешел на страницу оплаты\n",
    "* product_type – тип продукта (trial_premium – пробная премиум-подписка, premium_no_trial – премиум-подписка без пробной,\n",
    "coins  – подписка за внутреннюю валюту, other_type – другое)\n"
   ]
  },
  {
   "cell_type": "markdown",
   "id": "2a879e99",
   "metadata": {},
   "source": [
    "### Загрузка данных"
   ]
  },
  {
   "cell_type": "code",
   "execution_count": 1,
   "id": "c26067be",
   "metadata": {},
   "outputs": [],
   "source": [
    "import numpy as np\n",
    "import pandas as pd\n",
    "import scipy.stats as ss\n",
    "from tqdm.auto import tqdm\n",
    "import matplotlib.pyplot as plt"
   ]
  },
  {
   "cell_type": "code",
   "execution_count": 2,
   "id": "923d0369",
   "metadata": {},
   "outputs": [],
   "source": [
    "users_test = pd.read_csv('Проект_3_users_test.csv', sep=';')\n",
    "users_control_1 = pd.read_csv('Проект_3_users_control_1.csv', sep=';')\n",
    "users_control_2 = pd.read_csv('Проект_3_users_control_2.csv', sep=';')"
   ]
  },
  {
   "cell_type": "code",
   "execution_count": 3,
   "id": "38f21a8b",
   "metadata": {},
   "outputs": [],
   "source": [
    "transactions_test = pd.read_csv('Проект_3_transactions_test.csv', sep=';', parse_dates=['joined_at', 'paid_at'])\n",
    "transactions_control_1 = pd.read_csv('Проект_3_transactions_control_1.csv', sep=';', parse_dates=['joined_at', 'paid_at'])\n",
    "transactions_control_2 = pd.read_csv('Проект_3_transactions_control_2.csv', sep=';', parse_dates=['joined_at', 'paid_at'])"
   ]
  },
  {
   "cell_type": "markdown",
   "id": "8c5daabf",
   "metadata": {},
   "source": [
    "### EDA"
   ]
  },
  {
   "cell_type": "code",
   "execution_count": 4,
   "id": "786e6acb",
   "metadata": {},
   "outputs": [
    {
     "data": {
      "text/html": [
       "<div>\n",
       "<style scoped>\n",
       "    .dataframe tbody tr th:only-of-type {\n",
       "        vertical-align: middle;\n",
       "    }\n",
       "\n",
       "    .dataframe tbody tr th {\n",
       "        vertical-align: top;\n",
       "    }\n",
       "\n",
       "    .dataframe thead th {\n",
       "        text-align: right;\n",
       "    }\n",
       "</style>\n",
       "<table border=\"1\" class=\"dataframe\">\n",
       "  <thead>\n",
       "    <tr style=\"text-align: right;\">\n",
       "      <th></th>\n",
       "      <th>uid</th>\n",
       "      <th>age</th>\n",
       "      <th>attraction_coeff</th>\n",
       "      <th>coins</th>\n",
       "      <th>country</th>\n",
       "      <th>visit_days</th>\n",
       "      <th>gender</th>\n",
       "      <th>age_filter_start</th>\n",
       "      <th>age_filter_end</th>\n",
       "      <th>views_count</th>\n",
       "      <th>was_premium</th>\n",
       "      <th>is_premium</th>\n",
       "      <th>total_revenue</th>\n",
       "    </tr>\n",
       "  </thead>\n",
       "  <tbody>\n",
       "    <tr>\n",
       "      <th>0</th>\n",
       "      <td>892309896</td>\n",
       "      <td>27</td>\n",
       "      <td>685</td>\n",
       "      <td>NaN</td>\n",
       "      <td>United States of America</td>\n",
       "      <td>1,2,3,4,5,6,7,8,9,10,11,12,16,17</td>\n",
       "      <td>1</td>\n",
       "      <td>24</td>\n",
       "      <td>30</td>\n",
       "      <td>89</td>\n",
       "      <td>NaN</td>\n",
       "      <td>NaN</td>\n",
       "      <td>0</td>\n",
       "    </tr>\n",
       "    <tr>\n",
       "      <th>1</th>\n",
       "      <td>892044516</td>\n",
       "      <td>27</td>\n",
       "      <td>0</td>\n",
       "      <td>NaN</td>\n",
       "      <td>Germany</td>\n",
       "      <td>NaN</td>\n",
       "      <td>1</td>\n",
       "      <td>24</td>\n",
       "      <td>30</td>\n",
       "      <td>0</td>\n",
       "      <td>NaN</td>\n",
       "      <td>NaN</td>\n",
       "      <td>0</td>\n",
       "    </tr>\n",
       "    <tr>\n",
       "      <th>2</th>\n",
       "      <td>892185708</td>\n",
       "      <td>45</td>\n",
       "      <td>44</td>\n",
       "      <td>NaN</td>\n",
       "      <td>Israel</td>\n",
       "      <td>1,3,4,6,7,8,10,11,12,13,14,15,16,17,18,19,20,2...</td>\n",
       "      <td>1</td>\n",
       "      <td>42</td>\n",
       "      <td>48</td>\n",
       "      <td>68</td>\n",
       "      <td>NaN</td>\n",
       "      <td>NaN</td>\n",
       "      <td>0</td>\n",
       "    </tr>\n",
       "    <tr>\n",
       "      <th>3</th>\n",
       "      <td>892130292</td>\n",
       "      <td>32</td>\n",
       "      <td>0</td>\n",
       "      <td>NaN</td>\n",
       "      <td>United States of America</td>\n",
       "      <td>1,2,3,4,5,6,7,8,9,10,11,12</td>\n",
       "      <td>1</td>\n",
       "      <td>29</td>\n",
       "      <td>35</td>\n",
       "      <td>0</td>\n",
       "      <td>NaN</td>\n",
       "      <td>NaN</td>\n",
       "      <td>0</td>\n",
       "    </tr>\n",
       "    <tr>\n",
       "      <th>4</th>\n",
       "      <td>891406035</td>\n",
       "      <td>27</td>\n",
       "      <td>1000</td>\n",
       "      <td>NaN</td>\n",
       "      <td>France</td>\n",
       "      <td>NaN</td>\n",
       "      <td>1</td>\n",
       "      <td>24</td>\n",
       "      <td>30</td>\n",
       "      <td>1</td>\n",
       "      <td>1.0</td>\n",
       "      <td>NaN</td>\n",
       "      <td>0</td>\n",
       "    </tr>\n",
       "  </tbody>\n",
       "</table>\n",
       "</div>"
      ],
      "text/plain": [
       "         uid  age  attraction_coeff  coins                   country  \\\n",
       "0  892309896   27               685    NaN  United States of America   \n",
       "1  892044516   27                 0    NaN                   Germany   \n",
       "2  892185708   45                44    NaN                    Israel   \n",
       "3  892130292   32                 0    NaN  United States of America   \n",
       "4  891406035   27              1000    NaN                    France   \n",
       "\n",
       "                                          visit_days  gender  \\\n",
       "0                   1,2,3,4,5,6,7,8,9,10,11,12,16,17       1   \n",
       "1                                                NaN       1   \n",
       "2  1,3,4,6,7,8,10,11,12,13,14,15,16,17,18,19,20,2...       1   \n",
       "3                         1,2,3,4,5,6,7,8,9,10,11,12       1   \n",
       "4                                                NaN       1   \n",
       "\n",
       "   age_filter_start  age_filter_end  views_count  was_premium  is_premium  \\\n",
       "0                24              30           89          NaN         NaN   \n",
       "1                24              30            0          NaN         NaN   \n",
       "2                42              48           68          NaN         NaN   \n",
       "3                29              35            0          NaN         NaN   \n",
       "4                24              30            1          1.0         NaN   \n",
       "\n",
       "   total_revenue  \n",
       "0              0  \n",
       "1              0  \n",
       "2              0  \n",
       "3              0  \n",
       "4              0  "
      ]
     },
     "execution_count": 4,
     "metadata": {},
     "output_type": "execute_result"
    }
   ],
   "source": [
    "users_test.head()"
   ]
  },
  {
   "cell_type": "code",
   "execution_count": 5,
   "id": "bd4ca4c8",
   "metadata": {},
   "outputs": [
    {
     "data": {
      "text/plain": [
       "(4308, 13)"
      ]
     },
     "execution_count": 5,
     "metadata": {},
     "output_type": "execute_result"
    }
   ],
   "source": [
    "users_test.shape"
   ]
  },
  {
   "cell_type": "code",
   "execution_count": 6,
   "id": "df3ccc63",
   "metadata": {},
   "outputs": [
    {
     "data": {
      "text/plain": [
       "uid                    0\n",
       "age                    0\n",
       "attraction_coeff       0\n",
       "coins               4259\n",
       "country                0\n",
       "visit_days          1330\n",
       "gender                 0\n",
       "age_filter_start       0\n",
       "age_filter_end         0\n",
       "views_count            0\n",
       "was_premium         3900\n",
       "is_premium          4151\n",
       "total_revenue          0\n",
       "dtype: int64"
      ]
     },
     "execution_count": 6,
     "metadata": {},
     "output_type": "execute_result"
    }
   ],
   "source": [
    "users_test.isna().sum()"
   ]
  },
  {
   "cell_type": "markdown",
   "id": "a924df1b",
   "metadata": {},
   "source": [
    "**Колонки was_premium и is_premium во всех файлах предполагают тип данных bool, т.е. либо 0, либо 1. Т.к. единицы проставлены, то остальные NaN значения заменены на ноль.**"
   ]
  },
  {
   "cell_type": "code",
   "execution_count": 7,
   "id": "12e6e472",
   "metadata": {},
   "outputs": [],
   "source": [
    "users_test['was_premium'] = users_test.was_premium.fillna(0)\n",
    "users_test['is_premium'] = users_test.is_premium.fillna(0)"
   ]
  },
  {
   "cell_type": "code",
   "execution_count": 8,
   "id": "17317c93",
   "metadata": {},
   "outputs": [
    {
     "data": {
      "text/plain": [
       "1    4106\n",
       "0     202\n",
       "Name: gender, dtype: int64"
      ]
     },
     "execution_count": 8,
     "metadata": {},
     "output_type": "execute_result"
    }
   ],
   "source": [
    "users_test.gender.value_counts()"
   ]
  },
  {
   "cell_type": "code",
   "execution_count": 9,
   "id": "b75e612c",
   "metadata": {},
   "outputs": [
    {
     "data": {
      "text/html": [
       "<div>\n",
       "<style scoped>\n",
       "    .dataframe tbody tr th:only-of-type {\n",
       "        vertical-align: middle;\n",
       "    }\n",
       "\n",
       "    .dataframe tbody tr th {\n",
       "        vertical-align: top;\n",
       "    }\n",
       "\n",
       "    .dataframe thead th {\n",
       "        text-align: right;\n",
       "    }\n",
       "</style>\n",
       "<table border=\"1\" class=\"dataframe\">\n",
       "  <thead>\n",
       "    <tr style=\"text-align: right;\">\n",
       "      <th></th>\n",
       "      <th>country</th>\n",
       "      <th>visit_days</th>\n",
       "    </tr>\n",
       "  </thead>\n",
       "  <tbody>\n",
       "    <tr>\n",
       "      <th>count</th>\n",
       "      <td>4308</td>\n",
       "      <td>2978</td>\n",
       "    </tr>\n",
       "    <tr>\n",
       "      <th>unique</th>\n",
       "      <td>51</td>\n",
       "      <td>891</td>\n",
       "    </tr>\n",
       "    <tr>\n",
       "      <th>top</th>\n",
       "      <td>United States of America</td>\n",
       "      <td>1</td>\n",
       "    </tr>\n",
       "    <tr>\n",
       "      <th>freq</th>\n",
       "      <td>1450</td>\n",
       "      <td>525</td>\n",
       "    </tr>\n",
       "  </tbody>\n",
       "</table>\n",
       "</div>"
      ],
      "text/plain": [
       "                         country visit_days\n",
       "count                       4308       2978\n",
       "unique                        51        891\n",
       "top     United States of America          1\n",
       "freq                        1450        525"
      ]
     },
     "execution_count": 9,
     "metadata": {},
     "output_type": "execute_result"
    }
   ],
   "source": [
    "users_test.describe(include='object')"
   ]
  },
  {
   "cell_type": "code",
   "execution_count": 10,
   "id": "2c9b6b13",
   "metadata": {},
   "outputs": [
    {
     "data": {
      "text/plain": [
       "count    4308.000000\n",
       "mean       31.889276\n",
       "std        10.245287\n",
       "min        16.000000\n",
       "25%        25.000000\n",
       "50%        30.000000\n",
       "75%        38.000000\n",
       "max        99.000000\n",
       "Name: age, dtype: float64"
      ]
     },
     "execution_count": 10,
     "metadata": {},
     "output_type": "execute_result"
    }
   ],
   "source": [
    "users_test.age.describe()"
   ]
  },
  {
   "cell_type": "code",
   "execution_count": 11,
   "id": "99199792",
   "metadata": {},
   "outputs": [
    {
     "data": {
      "text/plain": [
       "(4340, 13)"
      ]
     },
     "execution_count": 11,
     "metadata": {},
     "output_type": "execute_result"
    }
   ],
   "source": [
    "users_control_1.shape"
   ]
  },
  {
   "cell_type": "code",
   "execution_count": 12,
   "id": "9cc9d6d4",
   "metadata": {},
   "outputs": [],
   "source": [
    "users_control_1['was_premium'] = users_control_1.was_premium.fillna(0)\n",
    "users_control_1['is_premium'] = users_control_1.is_premium.fillna(0)"
   ]
  },
  {
   "cell_type": "code",
   "execution_count": 13,
   "id": "e0500b09",
   "metadata": {},
   "outputs": [
    {
     "data": {
      "text/html": [
       "<div>\n",
       "<style scoped>\n",
       "    .dataframe tbody tr th:only-of-type {\n",
       "        vertical-align: middle;\n",
       "    }\n",
       "\n",
       "    .dataframe tbody tr th {\n",
       "        vertical-align: top;\n",
       "    }\n",
       "\n",
       "    .dataframe thead th {\n",
       "        text-align: right;\n",
       "    }\n",
       "</style>\n",
       "<table border=\"1\" class=\"dataframe\">\n",
       "  <thead>\n",
       "    <tr style=\"text-align: right;\">\n",
       "      <th></th>\n",
       "      <th>country</th>\n",
       "      <th>visit_days</th>\n",
       "    </tr>\n",
       "  </thead>\n",
       "  <tbody>\n",
       "    <tr>\n",
       "      <th>count</th>\n",
       "      <td>4340</td>\n",
       "      <td>3016</td>\n",
       "    </tr>\n",
       "    <tr>\n",
       "      <th>unique</th>\n",
       "      <td>40</td>\n",
       "      <td>880</td>\n",
       "    </tr>\n",
       "    <tr>\n",
       "      <th>top</th>\n",
       "      <td>United States of America</td>\n",
       "      <td>1</td>\n",
       "    </tr>\n",
       "    <tr>\n",
       "      <th>freq</th>\n",
       "      <td>1471</td>\n",
       "      <td>592</td>\n",
       "    </tr>\n",
       "  </tbody>\n",
       "</table>\n",
       "</div>"
      ],
      "text/plain": [
       "                         country visit_days\n",
       "count                       4340       3016\n",
       "unique                        40        880\n",
       "top     United States of America          1\n",
       "freq                        1471        592"
      ]
     },
     "execution_count": 13,
     "metadata": {},
     "output_type": "execute_result"
    }
   ],
   "source": [
    "users_control_1.describe(include='object')"
   ]
  },
  {
   "cell_type": "code",
   "execution_count": 14,
   "id": "8f5a34d5",
   "metadata": {},
   "outputs": [
    {
     "data": {
      "text/plain": [
       "count    4340.000000\n",
       "mean       32.095392\n",
       "std        10.257466\n",
       "min        16.000000\n",
       "25%        24.000000\n",
       "50%        30.000000\n",
       "75%        38.000000\n",
       "max        99.000000\n",
       "Name: age, dtype: float64"
      ]
     },
     "execution_count": 14,
     "metadata": {},
     "output_type": "execute_result"
    }
   ],
   "source": [
    "users_control_1.age.describe()"
   ]
  },
  {
   "cell_type": "code",
   "execution_count": 15,
   "id": "2758483f",
   "metadata": {},
   "outputs": [
    {
     "data": {
      "text/plain": [
       "1    4158\n",
       "0     182\n",
       "Name: gender, dtype: int64"
      ]
     },
     "execution_count": 15,
     "metadata": {},
     "output_type": "execute_result"
    }
   ],
   "source": [
    "users_control_1.gender.value_counts()"
   ]
  },
  {
   "cell_type": "code",
   "execution_count": 16,
   "id": "5b422ef6",
   "metadata": {},
   "outputs": [
    {
     "data": {
      "text/plain": [
       "(4264, 13)"
      ]
     },
     "execution_count": 16,
     "metadata": {},
     "output_type": "execute_result"
    }
   ],
   "source": [
    "users_control_2.shape"
   ]
  },
  {
   "cell_type": "code",
   "execution_count": 17,
   "id": "d7f69c7c",
   "metadata": {},
   "outputs": [],
   "source": [
    "users_control_2['was_premium'] = users_control_2.was_premium.fillna(0)\n",
    "users_control_2['is_premium'] = users_control_2.is_premium.fillna(0)"
   ]
  },
  {
   "cell_type": "code",
   "execution_count": 18,
   "id": "c2ae4aa0",
   "metadata": {},
   "outputs": [
    {
     "data": {
      "text/html": [
       "<div>\n",
       "<style scoped>\n",
       "    .dataframe tbody tr th:only-of-type {\n",
       "        vertical-align: middle;\n",
       "    }\n",
       "\n",
       "    .dataframe tbody tr th {\n",
       "        vertical-align: top;\n",
       "    }\n",
       "\n",
       "    .dataframe thead th {\n",
       "        text-align: right;\n",
       "    }\n",
       "</style>\n",
       "<table border=\"1\" class=\"dataframe\">\n",
       "  <thead>\n",
       "    <tr style=\"text-align: right;\">\n",
       "      <th></th>\n",
       "      <th>country</th>\n",
       "      <th>visit_days</th>\n",
       "    </tr>\n",
       "  </thead>\n",
       "  <tbody>\n",
       "    <tr>\n",
       "      <th>count</th>\n",
       "      <td>4264</td>\n",
       "      <td>2900</td>\n",
       "    </tr>\n",
       "    <tr>\n",
       "      <th>unique</th>\n",
       "      <td>45</td>\n",
       "      <td>837</td>\n",
       "    </tr>\n",
       "    <tr>\n",
       "      <th>top</th>\n",
       "      <td>United States of America</td>\n",
       "      <td>1</td>\n",
       "    </tr>\n",
       "    <tr>\n",
       "      <th>freq</th>\n",
       "      <td>1486</td>\n",
       "      <td>587</td>\n",
       "    </tr>\n",
       "  </tbody>\n",
       "</table>\n",
       "</div>"
      ],
      "text/plain": [
       "                         country visit_days\n",
       "count                       4264       2900\n",
       "unique                        45        837\n",
       "top     United States of America          1\n",
       "freq                        1486        587"
      ]
     },
     "execution_count": 18,
     "metadata": {},
     "output_type": "execute_result"
    }
   ],
   "source": [
    "users_control_2.describe(include='object')"
   ]
  },
  {
   "cell_type": "code",
   "execution_count": 19,
   "id": "9fb6fa27",
   "metadata": {},
   "outputs": [
    {
     "data": {
      "text/plain": [
       "count    4264.000000\n",
       "mean       32.046201\n",
       "std        10.170721\n",
       "min        16.000000\n",
       "25%        25.000000\n",
       "50%        30.000000\n",
       "75%        38.000000\n",
       "max        99.000000\n",
       "Name: age, dtype: float64"
      ]
     },
     "execution_count": 19,
     "metadata": {},
     "output_type": "execute_result"
    }
   ],
   "source": [
    "users_control_2.age.describe()"
   ]
  },
  {
   "cell_type": "code",
   "execution_count": 20,
   "id": "08ecc6f0",
   "metadata": {},
   "outputs": [
    {
     "data": {
      "text/plain": [
       "1    4069\n",
       "0     195\n",
       "Name: gender, dtype: int64"
      ]
     },
     "execution_count": 20,
     "metadata": {},
     "output_type": "execute_result"
    }
   ],
   "source": [
    "users_control_2.gender.value_counts()"
   ]
  },
  {
   "cell_type": "code",
   "execution_count": 21,
   "id": "421b9bba",
   "metadata": {},
   "outputs": [
    {
     "data": {
      "text/html": [
       "<div>\n",
       "<style scoped>\n",
       "    .dataframe tbody tr th:only-of-type {\n",
       "        vertical-align: middle;\n",
       "    }\n",
       "\n",
       "    .dataframe tbody tr th {\n",
       "        vertical-align: top;\n",
       "    }\n",
       "\n",
       "    .dataframe thead th {\n",
       "        text-align: right;\n",
       "    }\n",
       "</style>\n",
       "<table border=\"1\" class=\"dataframe\">\n",
       "  <thead>\n",
       "    <tr style=\"text-align: right;\">\n",
       "      <th></th>\n",
       "      <th>uid</th>\n",
       "      <th>country</th>\n",
       "      <th>joined_at</th>\n",
       "      <th>paid_at</th>\n",
       "      <th>revenue</th>\n",
       "      <th>payment_id</th>\n",
       "      <th>from_page</th>\n",
       "      <th>product_type</th>\n",
       "    </tr>\n",
       "  </thead>\n",
       "  <tbody>\n",
       "    <tr>\n",
       "      <th>0</th>\n",
       "      <td>891345942</td>\n",
       "      <td>Italy</td>\n",
       "      <td>2017-05-11 13:00:00</td>\n",
       "      <td>2017-11-13 15:04:00</td>\n",
       "      <td>12909</td>\n",
       "      <td>147</td>\n",
       "      <td>trial_vip_popup</td>\n",
       "      <td>trial_premium</td>\n",
       "    </tr>\n",
       "    <tr>\n",
       "      <th>1</th>\n",
       "      <td>892054251</td>\n",
       "      <td>United States of America</td>\n",
       "      <td>2017-10-22 00:33:00</td>\n",
       "      <td>2017-10-30 01:37:00</td>\n",
       "      <td>13923</td>\n",
       "      <td>147</td>\n",
       "      <td>trial_vip_popup</td>\n",
       "      <td>trial_premium</td>\n",
       "    </tr>\n",
       "    <tr>\n",
       "      <th>2</th>\n",
       "      <td>892236423</td>\n",
       "      <td>United States of America</td>\n",
       "      <td>2017-10-18 01:09:00</td>\n",
       "      <td>2017-10-23 00:15:00</td>\n",
       "      <td>3783</td>\n",
       "      <td>67</td>\n",
       "      <td>menu</td>\n",
       "      <td>other_type</td>\n",
       "    </tr>\n",
       "    <tr>\n",
       "      <th>3</th>\n",
       "      <td>892236423</td>\n",
       "      <td>United States of America</td>\n",
       "      <td>2017-10-18 01:09:00</td>\n",
       "      <td>2017-10-27 22:38:00</td>\n",
       "      <td>3783</td>\n",
       "      <td>67</td>\n",
       "      <td>menu</td>\n",
       "      <td>other_type</td>\n",
       "    </tr>\n",
       "    <tr>\n",
       "      <th>4</th>\n",
       "      <td>892168170</td>\n",
       "      <td>United States of America</td>\n",
       "      <td>2017-10-19 17:10:00</td>\n",
       "      <td>2017-10-27 19:10:00</td>\n",
       "      <td>9087</td>\n",
       "      <td>147</td>\n",
       "      <td>trial_vip_popup</td>\n",
       "      <td>trial_premium</td>\n",
       "    </tr>\n",
       "  </tbody>\n",
       "</table>\n",
       "</div>"
      ],
      "text/plain": [
       "         uid                   country           joined_at  \\\n",
       "0  891345942                     Italy 2017-05-11 13:00:00   \n",
       "1  892054251  United States of America 2017-10-22 00:33:00   \n",
       "2  892236423  United States of America 2017-10-18 01:09:00   \n",
       "3  892236423  United States of America 2017-10-18 01:09:00   \n",
       "4  892168170  United States of America 2017-10-19 17:10:00   \n",
       "\n",
       "              paid_at  revenue  payment_id        from_page   product_type  \n",
       "0 2017-11-13 15:04:00    12909         147  trial_vip_popup  trial_premium  \n",
       "1 2017-10-30 01:37:00    13923         147  trial_vip_popup  trial_premium  \n",
       "2 2017-10-23 00:15:00     3783          67             menu     other_type  \n",
       "3 2017-10-27 22:38:00     3783          67             menu     other_type  \n",
       "4 2017-10-27 19:10:00     9087         147  trial_vip_popup  trial_premium  "
      ]
     },
     "execution_count": 21,
     "metadata": {},
     "output_type": "execute_result"
    }
   ],
   "source": [
    "transactions_test.head()"
   ]
  },
  {
   "cell_type": "code",
   "execution_count": 22,
   "id": "b4e8876d",
   "metadata": {},
   "outputs": [
    {
     "data": {
      "text/html": [
       "<div>\n",
       "<style scoped>\n",
       "    .dataframe tbody tr th:only-of-type {\n",
       "        vertical-align: middle;\n",
       "    }\n",
       "\n",
       "    .dataframe tbody tr th {\n",
       "        vertical-align: top;\n",
       "    }\n",
       "\n",
       "    .dataframe thead th {\n",
       "        text-align: right;\n",
       "    }\n",
       "</style>\n",
       "<table border=\"1\" class=\"dataframe\">\n",
       "  <thead>\n",
       "    <tr style=\"text-align: right;\">\n",
       "      <th></th>\n",
       "      <th>country</th>\n",
       "      <th>from_page</th>\n",
       "      <th>product_type</th>\n",
       "    </tr>\n",
       "  </thead>\n",
       "  <tbody>\n",
       "    <tr>\n",
       "      <th>count</th>\n",
       "      <td>273</td>\n",
       "      <td>273</td>\n",
       "      <td>273</td>\n",
       "    </tr>\n",
       "    <tr>\n",
       "      <th>unique</th>\n",
       "      <td>17</td>\n",
       "      <td>22</td>\n",
       "      <td>4</td>\n",
       "    </tr>\n",
       "    <tr>\n",
       "      <th>top</th>\n",
       "      <td>United States of America</td>\n",
       "      <td>empty_likes</td>\n",
       "      <td>coins</td>\n",
       "    </tr>\n",
       "    <tr>\n",
       "      <th>freq</th>\n",
       "      <td>94</td>\n",
       "      <td>72</td>\n",
       "      <td>106</td>\n",
       "    </tr>\n",
       "  </tbody>\n",
       "</table>\n",
       "</div>"
      ],
      "text/plain": [
       "                         country    from_page product_type\n",
       "count                        273          273          273\n",
       "unique                        17           22            4\n",
       "top     United States of America  empty_likes        coins\n",
       "freq                          94           72          106"
      ]
     },
     "execution_count": 22,
     "metadata": {},
     "output_type": "execute_result"
    }
   ],
   "source": [
    "transactions_test.describe(include='object')"
   ]
  },
  {
   "cell_type": "code",
   "execution_count": 23,
   "id": "d8626d54",
   "metadata": {},
   "outputs": [
    {
     "data": {
      "text/plain": [
       "coins               0.388278\n",
       "premium_no_trial    0.278388\n",
       "trial_premium       0.227106\n",
       "other_type          0.106227\n",
       "Name: product_type, dtype: float64"
      ]
     },
     "execution_count": 23,
     "metadata": {},
     "output_type": "execute_result"
    }
   ],
   "source": [
    "transactions_test.product_type.value_counts(normalize=True)"
   ]
  },
  {
   "cell_type": "code",
   "execution_count": 24,
   "id": "49e8ff74",
   "metadata": {},
   "outputs": [
    {
     "data": {
      "text/plain": [
       "coins               0.395225\n",
       "premium_no_trial    0.281167\n",
       "trial_premium       0.177719\n",
       "other_type          0.145889\n",
       "Name: product_type, dtype: float64"
      ]
     },
     "execution_count": 24,
     "metadata": {},
     "output_type": "execute_result"
    }
   ],
   "source": [
    "transactions_control_1.product_type.value_counts(normalize=True)"
   ]
  },
  {
   "cell_type": "code",
   "execution_count": 25,
   "id": "a4ad29dc",
   "metadata": {},
   "outputs": [
    {
     "data": {
      "text/plain": [
       "coins               0.378049\n",
       "premium_no_trial    0.326220\n",
       "trial_premium       0.161585\n",
       "other_type          0.134146\n",
       "Name: product_type, dtype: float64"
      ]
     },
     "execution_count": 25,
     "metadata": {},
     "output_type": "execute_result"
    }
   ],
   "source": [
    "transactions_control_2.product_type.value_counts(normalize=True)"
   ]
  },
  {
   "cell_type": "code",
   "execution_count": 26,
   "id": "2e2d3b7a",
   "metadata": {},
   "outputs": [
    {
     "data": {
      "text/plain": [
       "uid             630\n",
       "country         630\n",
       "joined_at       630\n",
       "paid_at         630\n",
       "revenue         630\n",
       "payment_id      630\n",
       "from_page       630\n",
       "product_type    630\n",
       "dtype: int64"
      ]
     },
     "execution_count": 26,
     "metadata": {},
     "output_type": "execute_result"
    }
   ],
   "source": [
    "transactions_control_1.isna().sum()"
   ]
  },
  {
   "cell_type": "code",
   "execution_count": 27,
   "id": "16bd59bc",
   "metadata": {},
   "outputs": [],
   "source": [
    "transactions_control_1 = transactions_control_1.dropna()"
   ]
  },
  {
   "cell_type": "code",
   "execution_count": 28,
   "id": "f3e397e1",
   "metadata": {},
   "outputs": [
    {
     "data": {
      "text/plain": [
       "uid             0\n",
       "country         0\n",
       "joined_at       0\n",
       "paid_at         0\n",
       "revenue         0\n",
       "payment_id      0\n",
       "from_page       0\n",
       "product_type    0\n",
       "dtype: int64"
      ]
     },
     "execution_count": 28,
     "metadata": {},
     "output_type": "execute_result"
    }
   ],
   "source": [
    "transactions_control_1.isna().sum()"
   ]
  },
  {
   "cell_type": "code",
   "execution_count": 29,
   "id": "bc2df576",
   "metadata": {},
   "outputs": [],
   "source": [
    "transactions_test['uid'] = transactions_test.uid.astype(int)\n",
    "transactions_control_1['uid'] = transactions_control_1.uid.astype(int)\n",
    "transactions_control_2['uid'] = transactions_control_2.uid.astype(int)"
   ]
  },
  {
   "cell_type": "code",
   "execution_count": 30,
   "id": "aa113fd2",
   "metadata": {},
   "outputs": [
    {
     "data": {
      "text/plain": [
       "Timestamp('2017-01-11 03:07:00')"
      ]
     },
     "execution_count": 30,
     "metadata": {},
     "output_type": "execute_result"
    }
   ],
   "source": [
    "transactions_test.joined_at.min()"
   ]
  },
  {
   "cell_type": "code",
   "execution_count": 31,
   "id": "7cb1e21d",
   "metadata": {},
   "outputs": [
    {
     "data": {
      "text/plain": [
       "Timestamp('2017-10-31 23:40:00')"
      ]
     },
     "execution_count": 31,
     "metadata": {},
     "output_type": "execute_result"
    }
   ],
   "source": [
    "transactions_test.joined_at.max()"
   ]
  },
  {
   "cell_type": "code",
   "execution_count": 32,
   "id": "917cc66b",
   "metadata": {},
   "outputs": [
    {
     "data": {
      "text/plain": [
       "Timestamp('2015-01-19 11:49:00')"
      ]
     },
     "execution_count": 32,
     "metadata": {},
     "output_type": "execute_result"
    }
   ],
   "source": [
    "transactions_control_1.joined_at.min()"
   ]
  },
  {
   "cell_type": "code",
   "execution_count": 33,
   "id": "00ef6fb7",
   "metadata": {},
   "outputs": [
    {
     "data": {
      "text/plain": [
       "Timestamp('2017-10-31 22:17:00')"
      ]
     },
     "execution_count": 33,
     "metadata": {},
     "output_type": "execute_result"
    }
   ],
   "source": [
    "transactions_control_1.joined_at.max()"
   ]
  },
  {
   "cell_type": "code",
   "execution_count": 34,
   "id": "49da0e01",
   "metadata": {},
   "outputs": [
    {
     "data": {
      "text/plain": [
       "Timestamp('2017-01-11 08:36:00')"
      ]
     },
     "execution_count": 34,
     "metadata": {},
     "output_type": "execute_result"
    }
   ],
   "source": [
    "transactions_control_2.joined_at.min()"
   ]
  },
  {
   "cell_type": "code",
   "execution_count": 35,
   "id": "aa729c77",
   "metadata": {},
   "outputs": [
    {
     "data": {
      "text/plain": [
       "Timestamp('2017-10-31 17:43:00')"
      ]
     },
     "execution_count": 35,
     "metadata": {},
     "output_type": "execute_result"
    }
   ],
   "source": [
    "transactions_control_2.joined_at.max()"
   ]
  },
  {
   "cell_type": "code",
   "execution_count": 36,
   "id": "c6c1e062",
   "metadata": {},
   "outputs": [
    {
     "data": {
      "text/html": [
       "<div>\n",
       "<style scoped>\n",
       "    .dataframe tbody tr th:only-of-type {\n",
       "        vertical-align: middle;\n",
       "    }\n",
       "\n",
       "    .dataframe tbody tr th {\n",
       "        vertical-align: top;\n",
       "    }\n",
       "\n",
       "    .dataframe thead th {\n",
       "        text-align: right;\n",
       "    }\n",
       "</style>\n",
       "<table border=\"1\" class=\"dataframe\">\n",
       "  <thead>\n",
       "    <tr style=\"text-align: right;\">\n",
       "      <th></th>\n",
       "      <th>revenue</th>\n",
       "    </tr>\n",
       "    <tr>\n",
       "      <th>uid</th>\n",
       "      <th></th>\n",
       "    </tr>\n",
       "  </thead>\n",
       "  <tbody>\n",
       "    <tr>\n",
       "      <th>891178380</th>\n",
       "      <td>129870</td>\n",
       "    </tr>\n",
       "    <tr>\n",
       "      <th>892038759</th>\n",
       "      <td>123565</td>\n",
       "    </tr>\n",
       "    <tr>\n",
       "      <th>892236423</th>\n",
       "      <td>95823</td>\n",
       "    </tr>\n",
       "    <tr>\n",
       "      <th>891346269</th>\n",
       "      <td>75647</td>\n",
       "    </tr>\n",
       "    <tr>\n",
       "      <th>892150854</th>\n",
       "      <td>61789</td>\n",
       "    </tr>\n",
       "    <tr>\n",
       "      <th>...</th>\n",
       "      <td>...</td>\n",
       "    </tr>\n",
       "    <tr>\n",
       "      <th>891347046</th>\n",
       "      <td>1261</td>\n",
       "    </tr>\n",
       "    <tr>\n",
       "      <th>892333656</th>\n",
       "      <td>897</td>\n",
       "    </tr>\n",
       "    <tr>\n",
       "      <th>891175326</th>\n",
       "      <td>897</td>\n",
       "    </tr>\n",
       "    <tr>\n",
       "      <th>891914322</th>\n",
       "      <td>741</td>\n",
       "    </tr>\n",
       "    <tr>\n",
       "      <th>891777708</th>\n",
       "      <td>624</td>\n",
       "    </tr>\n",
       "  </tbody>\n",
       "</table>\n",
       "<p>146 rows × 1 columns</p>\n",
       "</div>"
      ],
      "text/plain": [
       "           revenue\n",
       "uid               \n",
       "891178380   129870\n",
       "892038759   123565\n",
       "892236423    95823\n",
       "891346269    75647\n",
       "892150854    61789\n",
       "...            ...\n",
       "891347046     1261\n",
       "892333656      897\n",
       "891175326      897\n",
       "891914322      741\n",
       "891777708      624\n",
       "\n",
       "[146 rows x 1 columns]"
      ]
     },
     "execution_count": 36,
     "metadata": {},
     "output_type": "execute_result"
    }
   ],
   "source": [
    "transactions_test.groupby('uid').agg({'revenue':'sum'}).sort_values('revenue', ascending=False)"
   ]
  },
  {
   "cell_type": "code",
   "execution_count": 37,
   "id": "e6a2fcd0",
   "metadata": {},
   "outputs": [
    {
     "data": {
      "text/plain": [
       "uid                 146\n",
       "age                 146\n",
       "attraction_coeff    146\n",
       "coins                47\n",
       "country             146\n",
       "visit_days          127\n",
       "gender              146\n",
       "age_filter_start    146\n",
       "age_filter_end      146\n",
       "views_count         146\n",
       "was_premium         146\n",
       "is_premium          146\n",
       "total_revenue       146\n",
       "dtype: int64"
      ]
     },
     "execution_count": 37,
     "metadata": {},
     "output_type": "execute_result"
    }
   ],
   "source": [
    "users_test.query('total_revenue > 0').count()"
   ]
  },
  {
   "cell_type": "code",
   "execution_count": 38,
   "id": "4081ca42",
   "metadata": {},
   "outputs": [
    {
     "data": {
      "text/html": [
       "<div>\n",
       "<style scoped>\n",
       "    .dataframe tbody tr th:only-of-type {\n",
       "        vertical-align: middle;\n",
       "    }\n",
       "\n",
       "    .dataframe tbody tr th {\n",
       "        vertical-align: top;\n",
       "    }\n",
       "\n",
       "    .dataframe thead th {\n",
       "        text-align: right;\n",
       "    }\n",
       "</style>\n",
       "<table border=\"1\" class=\"dataframe\">\n",
       "  <thead>\n",
       "    <tr style=\"text-align: right;\">\n",
       "      <th></th>\n",
       "      <th>revenue</th>\n",
       "    </tr>\n",
       "    <tr>\n",
       "      <th>uid</th>\n",
       "      <th></th>\n",
       "    </tr>\n",
       "  </thead>\n",
       "  <tbody>\n",
       "    <tr>\n",
       "      <th>892333905</th>\n",
       "      <td>486330.0</td>\n",
       "    </tr>\n",
       "    <tr>\n",
       "      <th>892216461</th>\n",
       "      <td>64298.0</td>\n",
       "    </tr>\n",
       "    <tr>\n",
       "      <th>891383310</th>\n",
       "      <td>63037.0</td>\n",
       "    </tr>\n",
       "    <tr>\n",
       "      <th>892366260</th>\n",
       "      <td>63024.0</td>\n",
       "    </tr>\n",
       "    <tr>\n",
       "      <th>892421277</th>\n",
       "      <td>60333.0</td>\n",
       "    </tr>\n",
       "    <tr>\n",
       "      <th>...</th>\n",
       "      <td>...</td>\n",
       "    </tr>\n",
       "    <tr>\n",
       "      <th>891792453</th>\n",
       "      <td>1313.0</td>\n",
       "    </tr>\n",
       "    <tr>\n",
       "      <th>891135642</th>\n",
       "      <td>962.0</td>\n",
       "    </tr>\n",
       "    <tr>\n",
       "      <th>960936960</th>\n",
       "      <td>806.0</td>\n",
       "    </tr>\n",
       "    <tr>\n",
       "      <th>891622389</th>\n",
       "      <td>767.0</td>\n",
       "    </tr>\n",
       "    <tr>\n",
       "      <th>891653790</th>\n",
       "      <td>728.0</td>\n",
       "    </tr>\n",
       "  </tbody>\n",
       "</table>\n",
       "<p>193 rows × 1 columns</p>\n",
       "</div>"
      ],
      "text/plain": [
       "            revenue\n",
       "uid                \n",
       "892333905  486330.0\n",
       "892216461   64298.0\n",
       "891383310   63037.0\n",
       "892366260   63024.0\n",
       "892421277   60333.0\n",
       "...             ...\n",
       "891792453    1313.0\n",
       "891135642     962.0\n",
       "960936960     806.0\n",
       "891622389     767.0\n",
       "891653790     728.0\n",
       "\n",
       "[193 rows x 1 columns]"
      ]
     },
     "execution_count": 38,
     "metadata": {},
     "output_type": "execute_result"
    }
   ],
   "source": [
    "transactions_control_1.groupby('uid').agg({'revenue':'sum'}).sort_values('revenue', ascending=False)"
   ]
  },
  {
   "cell_type": "code",
   "execution_count": 39,
   "id": "2d5f8d07",
   "metadata": {},
   "outputs": [
    {
     "data": {
      "text/html": [
       "<div>\n",
       "<style scoped>\n",
       "    .dataframe tbody tr th:only-of-type {\n",
       "        vertical-align: middle;\n",
       "    }\n",
       "\n",
       "    .dataframe tbody tr th {\n",
       "        vertical-align: top;\n",
       "    }\n",
       "\n",
       "    .dataframe thead th {\n",
       "        text-align: right;\n",
       "    }\n",
       "</style>\n",
       "<table border=\"1\" class=\"dataframe\">\n",
       "  <thead>\n",
       "    <tr style=\"text-align: right;\">\n",
       "      <th></th>\n",
       "      <th>uid</th>\n",
       "      <th>country</th>\n",
       "      <th>joined_at</th>\n",
       "      <th>paid_at</th>\n",
       "      <th>revenue</th>\n",
       "      <th>payment_id</th>\n",
       "      <th>from_page</th>\n",
       "      <th>product_type</th>\n",
       "    </tr>\n",
       "  </thead>\n",
       "  <tbody>\n",
       "    <tr>\n",
       "      <th>65</th>\n",
       "      <td>960936960</td>\n",
       "      <td>Russian Federation</td>\n",
       "      <td>2015-01-19 11:49:00</td>\n",
       "      <td>2016-12-14 17:30:00</td>\n",
       "      <td>26.0</td>\n",
       "      <td>0.0</td>\n",
       "      <td>refund_VP</td>\n",
       "      <td>other_type</td>\n",
       "    </tr>\n",
       "    <tr>\n",
       "      <th>101</th>\n",
       "      <td>960936960</td>\n",
       "      <td>Russian Federation</td>\n",
       "      <td>2015-01-19 11:49:00</td>\n",
       "      <td>2016-12-14 17:35:00</td>\n",
       "      <td>637.0</td>\n",
       "      <td>0.0</td>\n",
       "      <td>refung_AP</td>\n",
       "      <td>other_type</td>\n",
       "    </tr>\n",
       "    <tr>\n",
       "      <th>224</th>\n",
       "      <td>960936960</td>\n",
       "      <td>Russian Federation</td>\n",
       "      <td>2015-01-19 11:49:00</td>\n",
       "      <td>2016-12-14 16:16:00</td>\n",
       "      <td>143.0</td>\n",
       "      <td>0.0</td>\n",
       "      <td>refund_WP</td>\n",
       "      <td>other_type</td>\n",
       "    </tr>\n",
       "  </tbody>\n",
       "</table>\n",
       "</div>"
      ],
      "text/plain": [
       "           uid             country           joined_at             paid_at  \\\n",
       "65   960936960  Russian Federation 2015-01-19 11:49:00 2016-12-14 17:30:00   \n",
       "101  960936960  Russian Federation 2015-01-19 11:49:00 2016-12-14 17:35:00   \n",
       "224  960936960  Russian Federation 2015-01-19 11:49:00 2016-12-14 16:16:00   \n",
       "\n",
       "     revenue  payment_id  from_page product_type  \n",
       "65      26.0         0.0  refund_VP   other_type  \n",
       "101    637.0         0.0  refung_AP   other_type  \n",
       "224    143.0         0.0  refund_WP   other_type  "
      ]
     },
     "execution_count": 39,
     "metadata": {},
     "output_type": "execute_result"
    }
   ],
   "source": [
    "transactions_control_1.query('joined_at < \"2017-01-11\"')"
   ]
  },
  {
   "cell_type": "code",
   "execution_count": 40,
   "id": "ba044ffa",
   "metadata": {},
   "outputs": [
    {
     "data": {
      "text/plain": [
       "uid                 192\n",
       "age                 192\n",
       "attraction_coeff    192\n",
       "coins                60\n",
       "country             192\n",
       "visit_days          175\n",
       "gender              192\n",
       "age_filter_start    192\n",
       "age_filter_end      192\n",
       "views_count         192\n",
       "was_premium         192\n",
       "is_premium          192\n",
       "total_revenue       192\n",
       "dtype: int64"
      ]
     },
     "execution_count": 40,
     "metadata": {},
     "output_type": "execute_result"
    }
   ],
   "source": [
    "users_control_1.query('total_revenue > 0').count()"
   ]
  },
  {
   "cell_type": "code",
   "execution_count": 41,
   "id": "480ed97a",
   "metadata": {},
   "outputs": [
    {
     "data": {
      "text/html": [
       "<div>\n",
       "<style scoped>\n",
       "    .dataframe tbody tr th:only-of-type {\n",
       "        vertical-align: middle;\n",
       "    }\n",
       "\n",
       "    .dataframe tbody tr th {\n",
       "        vertical-align: top;\n",
       "    }\n",
       "\n",
       "    .dataframe thead th {\n",
       "        text-align: right;\n",
       "    }\n",
       "</style>\n",
       "<table border=\"1\" class=\"dataframe\">\n",
       "  <thead>\n",
       "    <tr style=\"text-align: right;\">\n",
       "      <th></th>\n",
       "      <th>revenue</th>\n",
       "    </tr>\n",
       "    <tr>\n",
       "      <th>uid</th>\n",
       "      <th></th>\n",
       "    </tr>\n",
       "  </thead>\n",
       "  <tbody>\n",
       "    <tr>\n",
       "      <th>891778551</th>\n",
       "      <td>81796</td>\n",
       "    </tr>\n",
       "    <tr>\n",
       "      <th>892307238</th>\n",
       "      <td>75647</td>\n",
       "    </tr>\n",
       "    <tr>\n",
       "      <th>891637005</th>\n",
       "      <td>34125</td>\n",
       "    </tr>\n",
       "    <tr>\n",
       "      <th>892128138</th>\n",
       "      <td>30849</td>\n",
       "    </tr>\n",
       "    <tr>\n",
       "      <th>891664350</th>\n",
       "      <td>28119</td>\n",
       "    </tr>\n",
       "    <tr>\n",
       "      <th>...</th>\n",
       "      <td>...</td>\n",
       "    </tr>\n",
       "    <tr>\n",
       "      <th>891333651</th>\n",
       "      <td>1456</td>\n",
       "    </tr>\n",
       "    <tr>\n",
       "      <th>891878595</th>\n",
       "      <td>1261</td>\n",
       "    </tr>\n",
       "    <tr>\n",
       "      <th>891260820</th>\n",
       "      <td>897</td>\n",
       "    </tr>\n",
       "    <tr>\n",
       "      <th>891789270</th>\n",
       "      <td>728</td>\n",
       "    </tr>\n",
       "    <tr>\n",
       "      <th>891317289</th>\n",
       "      <td>481</td>\n",
       "    </tr>\n",
       "  </tbody>\n",
       "</table>\n",
       "<p>187 rows × 1 columns</p>\n",
       "</div>"
      ],
      "text/plain": [
       "           revenue\n",
       "uid               \n",
       "891778551    81796\n",
       "892307238    75647\n",
       "891637005    34125\n",
       "892128138    30849\n",
       "891664350    28119\n",
       "...            ...\n",
       "891333651     1456\n",
       "891878595     1261\n",
       "891260820      897\n",
       "891789270      728\n",
       "891317289      481\n",
       "\n",
       "[187 rows x 1 columns]"
      ]
     },
     "execution_count": 41,
     "metadata": {},
     "output_type": "execute_result"
    }
   ],
   "source": [
    "transactions_control_2.groupby('uid').agg({'revenue':'sum'}).sort_values('revenue', ascending=False)"
   ]
  },
  {
   "cell_type": "code",
   "execution_count": 42,
   "id": "8dbe8b96",
   "metadata": {},
   "outputs": [
    {
     "data": {
      "text/plain": [
       "uid                 187\n",
       "age                 187\n",
       "attraction_coeff    187\n",
       "coins                58\n",
       "country             187\n",
       "visit_days          169\n",
       "gender              187\n",
       "age_filter_start    187\n",
       "age_filter_end      187\n",
       "views_count         187\n",
       "was_premium         187\n",
       "is_premium          187\n",
       "total_revenue       187\n",
       "dtype: int64"
      ]
     },
     "execution_count": 42,
     "metadata": {},
     "output_type": "execute_result"
    }
   ],
   "source": [
    "users_control_2.query('total_revenue > 0').count()"
   ]
  },
  {
   "cell_type": "code",
   "execution_count": 43,
   "id": "843e5c5a",
   "metadata": {},
   "outputs": [],
   "source": [
    "transactions_control_1 = transactions_control_1.loc[transactions_control_1['uid'] != 960936960]\n",
    "users_control_1 = users_control_1.loc[users_control_1['uid'] != 960936960]"
   ]
  },
  {
   "cell_type": "code",
   "execution_count": 44,
   "id": "9c1b03bf",
   "metadata": {},
   "outputs": [
    {
     "data": {
      "text/plain": [
       "Timestamp('2017-01-11 01:06:00')"
      ]
     },
     "execution_count": 44,
     "metadata": {},
     "output_type": "execute_result"
    }
   ],
   "source": [
    "transactions_control_1.joined_at.min()"
   ]
  },
  {
   "cell_type": "code",
   "execution_count": 45,
   "id": "fa901f7e",
   "metadata": {},
   "outputs": [
    {
     "data": {
      "text/plain": [
       "uid             192\n",
       "country          17\n",
       "joined_at       192\n",
       "paid_at         332\n",
       "revenue         124\n",
       "payment_id        7\n",
       "from_page        22\n",
       "product_type      4\n",
       "dtype: int64"
      ]
     },
     "execution_count": 45,
     "metadata": {},
     "output_type": "execute_result"
    }
   ],
   "source": [
    "transactions_control_1.nunique()"
   ]
  },
  {
   "cell_type": "code",
   "execution_count": 46,
   "id": "2f0720ee",
   "metadata": {},
   "outputs": [
    {
     "data": {
      "text/plain": [
       "uid                 191\n",
       "age                 191\n",
       "attraction_coeff    191\n",
       "coins                59\n",
       "country             191\n",
       "visit_days          174\n",
       "gender              191\n",
       "age_filter_start    191\n",
       "age_filter_end      191\n",
       "views_count         191\n",
       "was_premium         191\n",
       "is_premium          191\n",
       "total_revenue       191\n",
       "dtype: int64"
      ]
     },
     "execution_count": 46,
     "metadata": {},
     "output_type": "execute_result"
    }
   ],
   "source": [
    "users_control_1.query('total_revenue > 0').count()"
   ]
  },
  {
   "cell_type": "code",
   "execution_count": 47,
   "id": "cbd52edc",
   "metadata": {},
   "outputs": [],
   "source": [
    "transactions_control_1 = transactions_control_1.loc[transactions_control_1['uid'] != 892355163]"
   ]
  },
  {
   "cell_type": "markdown",
   "id": "f458c543",
   "metadata": {},
   "source": [
    "В целом можно сделать вывод, что участники A/B-теста равномерно распределены, и группы пользователей однородны по количеству и составу. Но в контрольную группу 1 попал пользователь, который зарегистрировался задолго до начала эксперимента, что не соответствует требованиям к его проведению, т.к. тест проводился для новых пользователей. Поэтому пользователь c uid 960936960 исключен из таблиц. После этого нашелся еще один пользователь из таблицы транзакций, который по какой-то причине не попал в таблицу пользователей, он так же исключен. "
   ]
  },
  {
   "cell_type": "markdown",
   "id": "d9b3cbb1",
   "metadata": {},
   "source": [
    "### Гипотезы"
   ]
  },
  {
   "cell_type": "markdown",
   "id": "335ef4a4",
   "metadata": {},
   "source": [
    "#### 1. Метрики эксперимента\n",
    "\n",
    "Компания работает по модели freemium. \n",
    "Т.к. в рамках эксперимента была изменена стоимость премиум подписки, то, скорее всего, компания хотела повлиять на сумму выручки и прибыли, поэтому следует обратить внимание на метрики ARPU, ARPPU и средний чек. Так же интересно проанализировать как изменилось количество платящих пользователей в абсолютном выражении и paying share. Вспомогательными метриками в таком эксперименте могут быть продления премиум подписки и конверсия в премиум пользователя.\n",
    "\n",
    "Как видно по расчетам, изменение стоимости подписки привело к увеличению среднего чека и ARPPU, но при этом доля платящих пользователей и ARPU уменьшились. Не смотря на то, что метрику ARPPU можно трактовать как реакцию пользователей на цены, установленные в проекте, я думаю, что ARPU  в данном случае важнее и показательнее. Во-первых потому, что премиум подписка не является самым популярным видом покупки среди пользователей данного приложения, большинство предпочитают купить коины. Во-вторых, именно ARPU в конечном итоге влияет на LTV."
   ]
  },
  {
   "cell_type": "code",
   "execution_count": 48,
   "id": "038aa2b3",
   "metadata": {},
   "outputs": [
    {
     "name": "stdout",
     "output_type": "stream",
     "text": [
      "Показатель ARPU в тестовой группе равен 534.08, в первой контрольной группе - 594.89,\n",
      "во второй контрольной группе - 450.38\n"
     ]
    }
   ],
   "source": [
    "B_ARPU = round(users_test.total_revenue.sum() / users_test.shape[0], 2)\n",
    "A1_ARPU = round(users_control_1.total_revenue.sum() / users_control_1.shape[0], 2)\n",
    "A2_ARPU = round(users_control_2.total_revenue.sum() / users_control_2.shape[0], 2)\n",
    "print(f'''Показатель ARPU в тестовой группе равен {B_ARPU}, в первой контрольной группе - {A1_ARPU},\n",
    "во второй контрольной группе - {A2_ARPU}''')"
   ]
  },
  {
   "cell_type": "code",
   "execution_count": 49,
   "id": "a35857ab",
   "metadata": {},
   "outputs": [
    {
     "name": "stdout",
     "output_type": "stream",
     "text": [
      "Средний чек в тестовой группе равен 8589.38, в первой контрольной группе - 6920.22,\n",
      "во второй контрольной группе - 5854.99\n"
     ]
    }
   ],
   "source": [
    "B_AOV = round(transactions_test.revenue.sum() / transactions_test.shape[0], 2)\n",
    "A1_AOV = round(transactions_control_1.revenue.sum() / transactions_control_1.shape[0], 2)\n",
    "A2_AOV = round(transactions_control_2.revenue.sum() / transactions_control_2.shape[0], 2)\n",
    "print(f'''Средний чек в тестовой группе равен {B_AOV}, в первой контрольной группе - {A1_AOV},\n",
    "во второй контрольной группе - {A2_AOV}''')"
   ]
  },
  {
   "cell_type": "code",
   "execution_count": 50,
   "id": "a19081b6",
   "metadata": {},
   "outputs": [
    {
     "name": "stdout",
     "output_type": "stream",
     "text": [
      "Показатель ARPPU в тестовой группе равен 16060.97, в первой контрольной группе - 13514.35,\n",
      "во второй контрольной группе - 10269.72\n"
     ]
    }
   ],
   "source": [
    "B_ARPPU = round(transactions_test.revenue.sum() / transactions_test.uid.nunique(), 2)\n",
    "A1_ARPPU = round(transactions_control_1.revenue.sum() / transactions_control_1.uid.nunique(), 2)\n",
    "A2_ARPPU = round(transactions_control_2.revenue.sum() / transactions_control_2.uid.nunique(), 2)\n",
    "print(f'''Показатель ARPPU в тестовой группе равен {B_ARPPU}, в первой контрольной группе - {A1_ARPPU},\n",
    "во второй контрольной группе - {A2_ARPPU}''')"
   ]
  },
  {
   "cell_type": "code",
   "execution_count": 51,
   "id": "2f6facf5",
   "metadata": {},
   "outputs": [
    {
     "name": "stdout",
     "output_type": "stream",
     "text": [
      "Доля платящих пользователей в тестовой группе составила 3.39, в первой контрольной группе - 4.4,\n",
      "во второй контрольной группе - 4.39\n"
     ]
    }
   ],
   "source": [
    "B_ps = round(transactions_test.uid.nunique() / users_test.uid.nunique() * 100, 2)\n",
    "A1_ps = round(transactions_control_1.uid.nunique() / users_control_1.uid.nunique() * 100, 2)\n",
    "A2_ps = round(transactions_control_2.uid.nunique() / users_control_2.uid.nunique() * 100, 2)\n",
    "print(f'''Доля платящих пользователей в тестовой группе составила {B_ps}, в первой контрольной группе - {A1_ps},\n",
    "во второй контрольной группе - {A2_ps}''')"
   ]
  },
  {
   "cell_type": "markdown",
   "id": "582a7028",
   "metadata": {},
   "source": [
    "#### 2. Проверка значимости результатов теста\n",
    "\n",
    "Т.к. у нас есть результаты по тестовой и двум контрольным группам, то это означает, что был проведен А/А/Б-тест. Судя по всему, вторая контрольная группа служила страховкой на случай, если другие команды в компании будут проводить сплит-тесты с теми же целевыми метриками. В данном случае нулевая гипотеза будет о равенстве средних (т.е. ARPU), и мы хотим принимать нулевую гипотезу в паре А1/А2 и отвергать в паре А1+А2/Б."
   ]
  },
  {
   "cell_type": "code",
   "execution_count": 52,
   "id": "4a7860bf",
   "metadata": {},
   "outputs": [],
   "source": [
    "A1 = users_control_1.total_revenue\n",
    "A2 = users_control_2.total_revenue"
   ]
  },
  {
   "cell_type": "markdown",
   "id": "a4e155ab",
   "metadata": {},
   "source": [
    "Проверим равенство дисперсий в группах критерием Левена. Н0: дисперсии в группах А1 и А2 равны, Н1: дисперсии в группах различаются."
   ]
  },
  {
   "cell_type": "code",
   "execution_count": 53,
   "id": "3d6bb891",
   "metadata": {},
   "outputs": [
    {
     "data": {
      "text/plain": [
       "LeveneResult(statistic=1.2392124768547264, pvalue=0.2656539923222671)"
      ]
     },
     "execution_count": 53,
     "metadata": {},
     "output_type": "execute_result"
    }
   ],
   "source": [
    "ss.levene(A1, A2)"
   ]
  },
  {
   "cell_type": "markdown",
   "id": "d58591e5",
   "metadata": {},
   "source": [
    "Так как p-value < 0.05, то мы отклоняем нулевую гипотезу о гомогенности дисперсий выборок и используем далее поправку Уэлша."
   ]
  },
  {
   "cell_type": "code",
   "execution_count": 54,
   "id": "cec57ae8",
   "metadata": {},
   "outputs": [
    {
     "data": {
      "application/vnd.jupyter.widget-view+json": {
       "model_id": "b304aa2ca2d04d4285e41193708786b5",
       "version_major": 2,
       "version_minor": 0
      },
      "text/plain": [
       "  0%|          | 0/1000 [00:00<?, ?it/s]"
      ]
     },
     "metadata": {},
     "output_type": "display_data"
    },
    {
     "data": {
      "image/png": "[encoded data removed]",
      "text/plain": [
       "<Figure size 432x288 with 1 Axes>"
      ]
     },
     "metadata": {
      "needs_background": "light"
     },
     "output_type": "display_data"
    },
    {
     "data": {
      "text/plain": [
       "0.02"
      ]
     },
     "execution_count": 54,
     "metadata": {},
     "output_type": "execute_result"
    }
   ],
   "source": [
    "#FPR - false positive rate\n",
    "# уровень альфа установлен 0.05\n",
    "simulations = 1000\n",
    "n_s = 1000\n",
    "res = []\n",
    "\n",
    "for i in tqdm(range(simulations)):\n",
    "    s1 = A1.sample(n_s, replace = False).values\n",
    "    s2 = A2.sample(n_s, replace = False).values\n",
    "    res.append(ss.ttest_ind(s1, s2, equal_var = False)[1]) # сохраняем p-value\n",
    "\n",
    "plt.hist(res, bins = 50)\n",
    "plt.style.use('ggplot')\n",
    "plt.xlabel('pvalues')\n",
    "plt.ylabel('frequency')\n",
    "plt.title(\"Histogram of A/A ttest\")\n",
    "plt.show()\n",
    "\n",
    "# Проверяем, что количество ложноположительных случаев не превышает альфа\n",
    "sum(np.array(res) < 0.05) / simulations\n",
    "# FPR < альфа и сплит-система работает корректно!"
   ]
  },
  {
   "cell_type": "code",
   "execution_count": 55,
   "id": "f9dc5a0c",
   "metadata": {},
   "outputs": [],
   "source": [
    "users_control = pd.concat([users_control_1, users_control_2], axis = 0)"
   ]
  },
  {
   "cell_type": "code",
   "execution_count": 56,
   "id": "705279fb",
   "metadata": {},
   "outputs": [],
   "source": [
    "A = users_control.total_revenue\n",
    "B = users_test.total_revenue"
   ]
  },
  {
   "cell_type": "markdown",
   "id": "809e875a",
   "metadata": {},
   "source": [
    "**Тестируем нормальность распределения средних с помощью бутстрапа (при уровне альфа 0.05):**"
   ]
  },
  {
   "cell_type": "code",
   "execution_count": 57,
   "id": "e1deb8e2",
   "metadata": {},
   "outputs": [],
   "source": [
    "# контрольная группа\n",
    "boot_it = 5000\n",
    "A_boot_data = []\n",
    "boot_conf_level = 0.95\n",
    "for i in range(boot_it):\n",
    "    samples = A.sample(len(A), replace = True)\n",
    "    A_boot_data.append(np.mean(samples))"
   ]
  },
  {
   "cell_type": "code",
   "execution_count": 58,
   "id": "1e7e3539",
   "metadata": {},
   "outputs": [
    {
     "name": "stdout",
     "output_type": "stream",
     "text": [
      "0.025    419.612135\n",
      "0.975    669.007910\n",
      "dtype: float64\n"
     ]
    }
   ],
   "source": [
    "# Найдем доверительный интервал для контрольной группы\n",
    "left_ci = (1 - boot_conf_level)/2\n",
    "right_ci = 1 - (1 - boot_conf_level) / 2\n",
    "ci = pd.Series(A_boot_data).quantile([left_ci, right_ci])\n",
    "\n",
    "print(ci)"
   ]
  },
  {
   "cell_type": "code",
   "execution_count": 59,
   "id": "cdec4b4c",
   "metadata": {},
   "outputs": [
    {
     "data": {
      "image/png": "[encoded data removed]",
      "text/plain": [
       "<Figure size 432x288 with 1 Axes>"
      ]
     },
     "metadata": {},
     "output_type": "display_data"
    }
   ],
   "source": [
    "plt.hist(pd.Series(A_boot_data), bins = 50)\n",
    "plt.style.use('ggplot')\n",
    "plt.vlines(ci,ymin=0,ymax=50,linestyle='--')\n",
    "plt.xlabel('boot_data')\n",
    "plt.ylabel('frequency')\n",
    "plt.title(\"Распределение ARPU в контрольной группе\")\n",
    "plt.show()"
   ]
  },
  {
   "cell_type": "code",
   "execution_count": 60,
   "id": "ed17b90a",
   "metadata": {},
   "outputs": [],
   "source": [
    "# тестовая группа\n",
    "boot_it = 5000\n",
    "B_boot_data = []\n",
    "boot_conf_level = 0.95\n",
    "for i in range(boot_it):\n",
    "    samples = B.sample(len(B), replace = True)\n",
    "    B_boot_data.append(np.mean(samples))"
   ]
  },
  {
   "cell_type": "code",
   "execution_count": 61,
   "id": "72b0a0cb",
   "metadata": {},
   "outputs": [
    {
     "name": "stdout",
     "output_type": "stream",
     "text": [
      "0.025    411.170265\n",
      "0.975    667.973149\n",
      "dtype: float64\n"
     ]
    }
   ],
   "source": [
    "# Найдем доверительный интервал для тестовой группы\n",
    "left_ci = (1 - boot_conf_level)/2\n",
    "right_ci = 1 - (1 - boot_conf_level) / 2\n",
    "ci = pd.Series(B_boot_data).quantile([left_ci, right_ci])\n",
    "\n",
    "print(ci)"
   ]
  },
  {
   "cell_type": "code",
   "execution_count": 62,
   "id": "ee2bc26a",
   "metadata": {},
   "outputs": [
    {
     "data": {
      "image/png": "[encoded data removed]",
      "text/plain": [
       "<Figure size 432x288 with 1 Axes>"
      ]
     },
     "metadata": {},
     "output_type": "display_data"
    }
   ],
   "source": [
    "plt.hist(pd.Series(B_boot_data), bins = 50)\n",
    "plt.style.use('ggplot')\n",
    "plt.vlines(ci,ymin=0,ymax=50,linestyle='--')\n",
    "plt.xlabel('boot_data')\n",
    "plt.ylabel('frequency')\n",
    "plt.title(\"Распределение ARPU в тестовой группе\")\n",
    "plt.show()"
   ]
  },
  {
   "cell_type": "markdown",
   "id": "d8c506b6",
   "metadata": {},
   "source": [
    "**Тестируем равенство дисперсий в группах критерием Левена. Н0: дисперсии в группах А и B равны, Н1: дисперсии в группах различаются.**"
   ]
  },
  {
   "cell_type": "code",
   "execution_count": 63,
   "id": "d60452ff",
   "metadata": {},
   "outputs": [
    {
     "data": {
      "text/plain": [
       "LeveneResult(statistic=0.010992182969404754, pvalue=0.9165015322539012)"
      ]
     },
     "execution_count": 63,
     "metadata": {},
     "output_type": "execute_result"
    }
   ],
   "source": [
    "ss.levene(A, B)"
   ]
  },
  {
   "cell_type": "markdown",
   "id": "cfefde15",
   "metadata": {},
   "source": [
    "Так как p-value > 0.05, то мы не имеем оснований отклонить нулевую гипотезу о гомогенности дисперсий."
   ]
  },
  {
   "cell_type": "markdown",
   "id": "63308aa9",
   "metadata": {},
   "source": [
    "Т.к. дисперсии равны и распределение стастики в обеих группах близко к нормальному, то можно использовать т-тест для проверки гипотезы о равенстве средних в двух группах."
   ]
  },
  {
   "cell_type": "code",
   "execution_count": 64,
   "id": "f4d86cfc",
   "metadata": {},
   "outputs": [
    {
     "data": {
      "text/plain": [
       "Ttest_indResult(statistic=-0.10484361196279321, pvalue=0.9165015322528947)"
      ]
     },
     "execution_count": 64,
     "metadata": {},
     "output_type": "execute_result"
    }
   ],
   "source": [
    "ss.ttest_ind(A, B, equal_var=True)"
   ]
  },
  {
   "cell_type": "markdown",
   "id": "ff66806a",
   "metadata": {},
   "source": [
    "Либо можем использовать бутстрап для проверки гипотезы о значимом изменении ARPU:"
   ]
  },
  {
   "cell_type": "code",
   "execution_count": 65,
   "id": "38897b16",
   "metadata": {},
   "outputs": [
    {
     "data": {
      "application/vnd.jupyter.widget-view+json": {
       "model_id": "6d630dcd09c845f7847487ac4f1eaca0",
       "version_major": 2,
       "version_minor": 0
      },
      "text/plain": [
       "  0%|          | 0/5000 [00:00<?, ?it/s]"
      ]
     },
     "metadata": {},
     "output_type": "display_data"
    },
    {
     "data": {
      "image/png": "[encoded data removed]",
      "text/plain": [
       "<Figure size 432x288 with 1 Axes>"
      ]
     },
     "metadata": {},
     "output_type": "display_data"
    },
    {
     "name": "stdout",
     "output_type": "stream",
     "text": [
      "доверительный интервал:                 0\n",
      "0.025 -153.127322\n",
      "0.975  154.840532, p_value: 0.887268433632969\n"
     ]
    }
   ],
   "source": [
    "boot_it = 5000\n",
    "statistic = np.mean\n",
    "bootstrap_conf_level = 0.95\n",
    "boot_len = max([len(A), len(B)])\n",
    "AB_test_boot_data = []\n",
    "    \n",
    "for i in tqdm(range(boot_it)):\n",
    "    samples_1 = A.sample(boot_len, replace = True).values\n",
    "    samples_2 = B.sample(boot_len, replace = True).values\n",
    "    AB_test_boot_data.append(statistic(samples_1-samples_2))\n",
    "        \n",
    "pd_AB_test = pd.DataFrame(AB_test_boot_data)\n",
    "        \n",
    "left_quant = (1 - bootstrap_conf_level)/2\n",
    "right_quant = 1 - (1 - bootstrap_conf_level) / 2\n",
    "ci = pd_AB_test.quantile([left_quant, right_quant])\n",
    "        \n",
    "p_1 = ss.norm.cdf(x = 0, loc = np.mean(AB_test_boot_data), scale = np.std(AB_test_boot_data))\n",
    "p_2 = ss.norm.cdf(x = 0, loc = -np.mean(AB_test_boot_data), scale = np.std(AB_test_boot_data))\n",
    "p_value = min(p_1, p_2) * 2\n",
    "        \n",
    "# Визуализация\n",
    "plt.hist(pd_AB_test[0], bins = 50) \n",
    "plt.vlines(ci,ymin=0,ymax=50,linestyle='--')\n",
    "plt.style.use('ggplot')\n",
    "plt.ylabel('frequency')\n",
    "plt.title(\"Распределение разниц средних тестовой и контрольной групп\")\n",
    "plt.show()\n",
    "\n",
    "print(f'доверительный интервал: {ci}, p_value: {p_value}')"
   ]
  },
  {
   "cell_type": "markdown",
   "id": "1a27c81e",
   "metadata": {},
   "source": [
    "**Т.к. доверительный интервал включает ноль, то мы принимаем нулевую гипотезу о равенстве средних. В результате эксперимента не получено значимое изменение ARPU в тестовой группе при изменении стоимости премиум-подписки. Попробуем проанализировать сегменты премиум-пользователей:** "
   ]
  },
  {
   "cell_type": "code",
   "execution_count": 66,
   "id": "851f21b3",
   "metadata": {},
   "outputs": [],
   "source": [
    "transactions_control = pd.concat([transactions_control_1, transactions_control_2], axis=0)"
   ]
  },
  {
   "cell_type": "code",
   "execution_count": 67,
   "id": "0da267ef",
   "metadata": {},
   "outputs": [
    {
     "data": {
      "text/html": [
       "<div>\n",
       "<style scoped>\n",
       "    .dataframe tbody tr th:only-of-type {\n",
       "        vertical-align: middle;\n",
       "    }\n",
       "\n",
       "    .dataframe tbody tr th {\n",
       "        vertical-align: top;\n",
       "    }\n",
       "\n",
       "    .dataframe thead th {\n",
       "        text-align: right;\n",
       "    }\n",
       "</style>\n",
       "<table border=\"1\" class=\"dataframe\">\n",
       "  <thead>\n",
       "    <tr style=\"text-align: right;\">\n",
       "      <th>product_type</th>\n",
       "      <th>coins</th>\n",
       "      <th>other_type</th>\n",
       "      <th>premium_no_trial</th>\n",
       "      <th>trial_premium</th>\n",
       "    </tr>\n",
       "    <tr>\n",
       "      <th>country</th>\n",
       "      <th></th>\n",
       "      <th></th>\n",
       "      <th></th>\n",
       "      <th></th>\n",
       "    </tr>\n",
       "  </thead>\n",
       "  <tbody>\n",
       "    <tr>\n",
       "      <th>Argentina</th>\n",
       "      <td>31525.000000</td>\n",
       "      <td>30264.000000</td>\n",
       "      <td>9882.600000</td>\n",
       "      <td>13767.000000</td>\n",
       "    </tr>\n",
       "    <tr>\n",
       "      <th>Australia</th>\n",
       "      <td>NaN</td>\n",
       "      <td>NaN</td>\n",
       "      <td>12597.000000</td>\n",
       "      <td>NaN</td>\n",
       "    </tr>\n",
       "    <tr>\n",
       "      <th>Belgium</th>\n",
       "      <td>5863.000000</td>\n",
       "      <td>NaN</td>\n",
       "      <td>12597.000000</td>\n",
       "      <td>12787.666667</td>\n",
       "    </tr>\n",
       "    <tr>\n",
       "      <th>Canada</th>\n",
       "      <td>3214.250000</td>\n",
       "      <td>3549.000000</td>\n",
       "      <td>6119.750000</td>\n",
       "      <td>11290.500000</td>\n",
       "    </tr>\n",
       "    <tr>\n",
       "      <th>Chile</th>\n",
       "      <td>3475.333333</td>\n",
       "      <td>NaN</td>\n",
       "      <td>8181.333333</td>\n",
       "      <td>NaN</td>\n",
       "    </tr>\n",
       "    <tr>\n",
       "      <th>France</th>\n",
       "      <td>3510.000000</td>\n",
       "      <td>16009.500000</td>\n",
       "      <td>6677.666667</td>\n",
       "      <td>15660.666667</td>\n",
       "    </tr>\n",
       "    <tr>\n",
       "      <th>Germany</th>\n",
       "      <td>16562.000000</td>\n",
       "      <td>NaN</td>\n",
       "      <td>5167.500000</td>\n",
       "      <td>13159.250000</td>\n",
       "    </tr>\n",
       "    <tr>\n",
       "      <th>Israel</th>\n",
       "      <td>2522.000000</td>\n",
       "      <td>2736.500000</td>\n",
       "      <td>12597.000000</td>\n",
       "      <td>14369.333333</td>\n",
       "    </tr>\n",
       "    <tr>\n",
       "      <th>Italy</th>\n",
       "      <td>4264.000000</td>\n",
       "      <td>1469.000000</td>\n",
       "      <td>7400.250000</td>\n",
       "      <td>12909.000000</td>\n",
       "    </tr>\n",
       "    <tr>\n",
       "      <th>Latvia</th>\n",
       "      <td>936.000000</td>\n",
       "      <td>NaN</td>\n",
       "      <td>6357.000000</td>\n",
       "      <td>NaN</td>\n",
       "    </tr>\n",
       "    <tr>\n",
       "      <th>Mexico</th>\n",
       "      <td>NaN</td>\n",
       "      <td>NaN</td>\n",
       "      <td>6214.000000</td>\n",
       "      <td>NaN</td>\n",
       "    </tr>\n",
       "    <tr>\n",
       "      <th>Spain</th>\n",
       "      <td>2803.125000</td>\n",
       "      <td>2673.666667</td>\n",
       "      <td>24918.833333</td>\n",
       "      <td>13183.625000</td>\n",
       "    </tr>\n",
       "    <tr>\n",
       "      <th>Switzerland</th>\n",
       "      <td>1109.333333</td>\n",
       "      <td>NaN</td>\n",
       "      <td>NaN</td>\n",
       "      <td>9464.000000</td>\n",
       "    </tr>\n",
       "    <tr>\n",
       "      <th>Turkey</th>\n",
       "      <td>5551.000000</td>\n",
       "      <td>NaN</td>\n",
       "      <td>3614.000000</td>\n",
       "      <td>NaN</td>\n",
       "    </tr>\n",
       "    <tr>\n",
       "      <th>United Arab Emirates</th>\n",
       "      <td>6305.000000</td>\n",
       "      <td>3783.000000</td>\n",
       "      <td>23422.285714</td>\n",
       "      <td>13247.000000</td>\n",
       "    </tr>\n",
       "    <tr>\n",
       "      <th>United Kingdom (Great Britain)</th>\n",
       "      <td>3608.800000</td>\n",
       "      <td>NaN</td>\n",
       "      <td>6466.200000</td>\n",
       "      <td>13500.500000</td>\n",
       "    </tr>\n",
       "    <tr>\n",
       "      <th>United States of America</th>\n",
       "      <td>5962.333333</td>\n",
       "      <td>3527.727273</td>\n",
       "      <td>8287.500000</td>\n",
       "      <td>11864.666667</td>\n",
       "    </tr>\n",
       "  </tbody>\n",
       "</table>\n",
       "</div>"
      ],
      "text/plain": [
       "product_type                           coins    other_type  premium_no_trial  \\\n",
       "country                                                                        \n",
       "Argentina                       31525.000000  30264.000000       9882.600000   \n",
       "Australia                                NaN           NaN      12597.000000   \n",
       "Belgium                          5863.000000           NaN      12597.000000   \n",
       "Canada                           3214.250000   3549.000000       6119.750000   \n",
       "Chile                            3475.333333           NaN       8181.333333   \n",
       "France                           3510.000000  16009.500000       6677.666667   \n",
       "Germany                         16562.000000           NaN       5167.500000   \n",
       "Israel                           2522.000000   2736.500000      12597.000000   \n",
       "Italy                            4264.000000   1469.000000       7400.250000   \n",
       "Latvia                            936.000000           NaN       6357.000000   \n",
       "Mexico                                   NaN           NaN       6214.000000   \n",
       "Spain                            2803.125000   2673.666667      24918.833333   \n",
       "Switzerland                      1109.333333           NaN               NaN   \n",
       "Turkey                           5551.000000           NaN       3614.000000   \n",
       "United Arab Emirates             6305.000000   3783.000000      23422.285714   \n",
       "United Kingdom (Great Britain)   3608.800000           NaN       6466.200000   \n",
       "United States of America         5962.333333   3527.727273       8287.500000   \n",
       "\n",
       "product_type                    trial_premium  \n",
       "country                                        \n",
       "Argentina                        13767.000000  \n",
       "Australia                                 NaN  \n",
       "Belgium                          12787.666667  \n",
       "Canada                           11290.500000  \n",
       "Chile                                     NaN  \n",
       "France                           15660.666667  \n",
       "Germany                          13159.250000  \n",
       "Israel                           14369.333333  \n",
       "Italy                            12909.000000  \n",
       "Latvia                                    NaN  \n",
       "Mexico                                    NaN  \n",
       "Spain                            13183.625000  \n",
       "Switzerland                       9464.000000  \n",
       "Turkey                                    NaN  \n",
       "United Arab Emirates             13247.000000  \n",
       "United Kingdom (Great Britain)   13500.500000  \n",
       "United States of America         11864.666667  "
      ]
     },
     "execution_count": 67,
     "metadata": {},
     "output_type": "execute_result"
    }
   ],
   "source": [
    "# популярность платных продуктов в тестовой группе по странам.\n",
    "pd.pivot_table(transactions_test, values = 'revenue', index = 'country', columns = 'product_type', aggfunc = 'mean')"
   ]
  },
  {
   "cell_type": "code",
   "execution_count": 68,
   "id": "09f3addd",
   "metadata": {},
   "outputs": [
    {
     "data": {
      "text/html": [
       "<div>\n",
       "<style scoped>\n",
       "    .dataframe tbody tr th:only-of-type {\n",
       "        vertical-align: middle;\n",
       "    }\n",
       "\n",
       "    .dataframe tbody tr th {\n",
       "        vertical-align: top;\n",
       "    }\n",
       "\n",
       "    .dataframe thead th {\n",
       "        text-align: right;\n",
       "    }\n",
       "</style>\n",
       "<table border=\"1\" class=\"dataframe\">\n",
       "  <thead>\n",
       "    <tr style=\"text-align: right;\">\n",
       "      <th>product_type</th>\n",
       "      <th>coins</th>\n",
       "      <th>other_type</th>\n",
       "      <th>premium_no_trial</th>\n",
       "      <th>trial_premium</th>\n",
       "    </tr>\n",
       "    <tr>\n",
       "      <th>country</th>\n",
       "      <th></th>\n",
       "      <th></th>\n",
       "      <th></th>\n",
       "      <th></th>\n",
       "    </tr>\n",
       "  </thead>\n",
       "  <tbody>\n",
       "    <tr>\n",
       "      <th>Argentina</th>\n",
       "      <td>3474.120000</td>\n",
       "      <td>NaN</td>\n",
       "      <td>6724.250000</td>\n",
       "      <td>10907.000000</td>\n",
       "    </tr>\n",
       "    <tr>\n",
       "      <th>Australia</th>\n",
       "      <td>1313.000000</td>\n",
       "      <td>NaN</td>\n",
       "      <td>4342.000000</td>\n",
       "      <td>13305.500000</td>\n",
       "    </tr>\n",
       "    <tr>\n",
       "      <th>Austria</th>\n",
       "      <td>4056.000000</td>\n",
       "      <td>NaN</td>\n",
       "      <td>4056.000000</td>\n",
       "      <td>NaN</td>\n",
       "    </tr>\n",
       "    <tr>\n",
       "      <th>Belgium</th>\n",
       "      <td>3045.250000</td>\n",
       "      <td>2314.000000</td>\n",
       "      <td>5956.166667</td>\n",
       "      <td>15087.428571</td>\n",
       "    </tr>\n",
       "    <tr>\n",
       "      <th>Canada</th>\n",
       "      <td>3791.125000</td>\n",
       "      <td>3783.000000</td>\n",
       "      <td>4877.600000</td>\n",
       "      <td>10681.666667</td>\n",
       "    </tr>\n",
       "    <tr>\n",
       "      <th>Chile</th>\n",
       "      <td>4618.250000</td>\n",
       "      <td>3484.000000</td>\n",
       "      <td>5825.300000</td>\n",
       "      <td>11375.000000</td>\n",
       "    </tr>\n",
       "    <tr>\n",
       "      <th>France</th>\n",
       "      <td>2346.782609</td>\n",
       "      <td>2668.714286</td>\n",
       "      <td>5367.142857</td>\n",
       "      <td>13459.727273</td>\n",
       "    </tr>\n",
       "    <tr>\n",
       "      <th>Germany</th>\n",
       "      <td>6989.666667</td>\n",
       "      <td>2327.000000</td>\n",
       "      <td>5816.571429</td>\n",
       "      <td>14534.000000</td>\n",
       "    </tr>\n",
       "    <tr>\n",
       "      <th>India</th>\n",
       "      <td>NaN</td>\n",
       "      <td>NaN</td>\n",
       "      <td>4810.000000</td>\n",
       "      <td>NaN</td>\n",
       "    </tr>\n",
       "    <tr>\n",
       "      <th>Israel</th>\n",
       "      <td>2186.476190</td>\n",
       "      <td>3577.600000</td>\n",
       "      <td>6030.916667</td>\n",
       "      <td>12785.500000</td>\n",
       "    </tr>\n",
       "    <tr>\n",
       "      <th>Italy</th>\n",
       "      <td>9986.489362</td>\n",
       "      <td>2840.066667</td>\n",
       "      <td>8179.736842</td>\n",
       "      <td>14235.000000</td>\n",
       "    </tr>\n",
       "    <tr>\n",
       "      <th>Lithuania</th>\n",
       "      <td>NaN</td>\n",
       "      <td>NaN</td>\n",
       "      <td>NaN</td>\n",
       "      <td>12766.000000</td>\n",
       "    </tr>\n",
       "    <tr>\n",
       "      <th>Portugal</th>\n",
       "      <td>2874.857143</td>\n",
       "      <td>NaN</td>\n",
       "      <td>5104.666667</td>\n",
       "      <td>11245.000000</td>\n",
       "    </tr>\n",
       "    <tr>\n",
       "      <th>Spain</th>\n",
       "      <td>3645.416667</td>\n",
       "      <td>3061.500000</td>\n",
       "      <td>9692.312500</td>\n",
       "      <td>15129.400000</td>\n",
       "    </tr>\n",
       "    <tr>\n",
       "      <th>Switzerland</th>\n",
       "      <td>6123.000000</td>\n",
       "      <td>NaN</td>\n",
       "      <td>5131.750000</td>\n",
       "      <td>10946.000000</td>\n",
       "    </tr>\n",
       "    <tr>\n",
       "      <th>Turkey</th>\n",
       "      <td>2765.750000</td>\n",
       "      <td>1599.000000</td>\n",
       "      <td>23361.000000</td>\n",
       "      <td>7033.000000</td>\n",
       "    </tr>\n",
       "    <tr>\n",
       "      <th>Ukraine</th>\n",
       "      <td>1261.000000</td>\n",
       "      <td>NaN</td>\n",
       "      <td>6357.000000</td>\n",
       "      <td>NaN</td>\n",
       "    </tr>\n",
       "    <tr>\n",
       "      <th>United Arab Emirates</th>\n",
       "      <td>4867.200000</td>\n",
       "      <td>3256.500000</td>\n",
       "      <td>16433.857143</td>\n",
       "      <td>11700.000000</td>\n",
       "    </tr>\n",
       "    <tr>\n",
       "      <th>United Kingdom (Great Britain)</th>\n",
       "      <td>5442.478261</td>\n",
       "      <td>3239.166667</td>\n",
       "      <td>5693.187500</td>\n",
       "      <td>11947.000000</td>\n",
       "    </tr>\n",
       "    <tr>\n",
       "      <th>United States of America</th>\n",
       "      <td>3547.973684</td>\n",
       "      <td>3112.416667</td>\n",
       "      <td>6907.822581</td>\n",
       "      <td>10719.693878</td>\n",
       "    </tr>\n",
       "  </tbody>\n",
       "</table>\n",
       "</div>"
      ],
      "text/plain": [
       "product_type                          coins   other_type  premium_no_trial  \\\n",
       "country                                                                      \n",
       "Argentina                       3474.120000          NaN       6724.250000   \n",
       "Australia                       1313.000000          NaN       4342.000000   \n",
       "Austria                         4056.000000          NaN       4056.000000   \n",
       "Belgium                         3045.250000  2314.000000       5956.166667   \n",
       "Canada                          3791.125000  3783.000000       4877.600000   \n",
       "Chile                           4618.250000  3484.000000       5825.300000   \n",
       "France                          2346.782609  2668.714286       5367.142857   \n",
       "Germany                         6989.666667  2327.000000       5816.571429   \n",
       "India                                   NaN          NaN       4810.000000   \n",
       "Israel                          2186.476190  3577.600000       6030.916667   \n",
       "Italy                           9986.489362  2840.066667       8179.736842   \n",
       "Lithuania                               NaN          NaN               NaN   \n",
       "Portugal                        2874.857143          NaN       5104.666667   \n",
       "Spain                           3645.416667  3061.500000       9692.312500   \n",
       "Switzerland                     6123.000000          NaN       5131.750000   \n",
       "Turkey                          2765.750000  1599.000000      23361.000000   \n",
       "Ukraine                         1261.000000          NaN       6357.000000   \n",
       "United Arab Emirates            4867.200000  3256.500000      16433.857143   \n",
       "United Kingdom (Great Britain)  5442.478261  3239.166667       5693.187500   \n",
       "United States of America        3547.973684  3112.416667       6907.822581   \n",
       "\n",
       "product_type                    trial_premium  \n",
       "country                                        \n",
       "Argentina                        10907.000000  \n",
       "Australia                        13305.500000  \n",
       "Austria                                   NaN  \n",
       "Belgium                          15087.428571  \n",
       "Canada                           10681.666667  \n",
       "Chile                            11375.000000  \n",
       "France                           13459.727273  \n",
       "Germany                          14534.000000  \n",
       "India                                     NaN  \n",
       "Israel                           12785.500000  \n",
       "Italy                            14235.000000  \n",
       "Lithuania                        12766.000000  \n",
       "Portugal                         11245.000000  \n",
       "Spain                            15129.400000  \n",
       "Switzerland                      10946.000000  \n",
       "Turkey                            7033.000000  \n",
       "Ukraine                                   NaN  \n",
       "United Arab Emirates             11700.000000  \n",
       "United Kingdom (Great Britain)   11947.000000  \n",
       "United States of America         10719.693878  "
      ]
     },
     "execution_count": 68,
     "metadata": {},
     "output_type": "execute_result"
    }
   ],
   "source": [
    "# популярность платных продуктов в контрольной группе по странам.\n",
    "pd.pivot_table(transactions_control, values = 'revenue', index = 'country', columns = 'product_type', aggfunc = 'mean')"
   ]
  },
  {
   "cell_type": "markdown",
   "id": "77bd9a7f",
   "metadata": {},
   "source": [
    "Посмотрим на распределение пользователей премиум-подписки по возрастным группам в тестовой группе."
   ]
  },
  {
   "cell_type": "code",
   "execution_count": 69,
   "id": "d0f837d0",
   "metadata": {},
   "outputs": [],
   "source": [
    "premium_test = transactions_test.query('product_type == \"premium_no_trial\"')\\\n",
    "                 .groupby('uid', as_index = False)\\\n",
    "                 .agg({'payment_id':'count'})\\\n",
    "                 .rename(columns = {'payment_id':'payments_number'})"
   ]
  },
  {
   "cell_type": "code",
   "execution_count": 70,
   "id": "f4082f22",
   "metadata": {},
   "outputs": [],
   "source": [
    "premium_users_test = users_test.merge(premium_test, on = 'uid')"
   ]
  },
  {
   "cell_type": "code",
   "execution_count": 71,
   "id": "e83464be",
   "metadata": {},
   "outputs": [
    {
     "data": {
      "text/plain": [
       "count    67.000000\n",
       "mean     32.611940\n",
       "std      12.060398\n",
       "min      17.000000\n",
       "25%      24.000000\n",
       "50%      32.000000\n",
       "75%      37.500000\n",
       "max      99.000000\n",
       "Name: age, dtype: float64"
      ]
     },
     "execution_count": 71,
     "metadata": {},
     "output_type": "execute_result"
    }
   ],
   "source": [
    "premium_users_test.age.describe()"
   ]
  },
  {
   "cell_type": "code",
   "execution_count": 72,
   "id": "df9e55fb",
   "metadata": {},
   "outputs": [],
   "source": [
    "premium_users_test['age_group'] = pd.cut(premium_users_test.age, bins=[0, 23, 31, 38, 99], labels = ['17-23', '24-31', '32-38', '39-99'])"
   ]
  },
  {
   "cell_type": "code",
   "execution_count": 73,
   "id": "0eef0d4e",
   "metadata": {},
   "outputs": [
    {
     "data": {
      "text/html": [
       "<div>\n",
       "<style scoped>\n",
       "    .dataframe tbody tr th:only-of-type {\n",
       "        vertical-align: middle;\n",
       "    }\n",
       "\n",
       "    .dataframe tbody tr th {\n",
       "        vertical-align: top;\n",
       "    }\n",
       "\n",
       "    .dataframe thead th {\n",
       "        text-align: right;\n",
       "    }\n",
       "</style>\n",
       "<table border=\"1\" class=\"dataframe\">\n",
       "  <thead>\n",
       "    <tr style=\"text-align: right;\">\n",
       "      <th></th>\n",
       "      <th>uid</th>\n",
       "      <th>age_group</th>\n",
       "      <th>country</th>\n",
       "      <th>gender</th>\n",
       "      <th>total_revenue</th>\n",
       "      <th>payments_number</th>\n",
       "    </tr>\n",
       "  </thead>\n",
       "  <tbody>\n",
       "    <tr>\n",
       "      <th>0</th>\n",
       "      <td>891152790</td>\n",
       "      <td>24-31</td>\n",
       "      <td>Spain</td>\n",
       "      <td>1</td>\n",
       "      <td>12597</td>\n",
       "      <td>1</td>\n",
       "    </tr>\n",
       "    <tr>\n",
       "      <th>1</th>\n",
       "      <td>891589239</td>\n",
       "      <td>17-23</td>\n",
       "      <td>Italy</td>\n",
       "      <td>1</td>\n",
       "      <td>37817</td>\n",
       "      <td>1</td>\n",
       "    </tr>\n",
       "    <tr>\n",
       "      <th>2</th>\n",
       "      <td>891806436</td>\n",
       "      <td>32-38</td>\n",
       "      <td>Italy</td>\n",
       "      <td>1</td>\n",
       "      <td>12597</td>\n",
       "      <td>1</td>\n",
       "    </tr>\n",
       "    <tr>\n",
       "      <th>3</th>\n",
       "      <td>891882681</td>\n",
       "      <td>32-38</td>\n",
       "      <td>Belgium</td>\n",
       "      <td>1</td>\n",
       "      <td>20410</td>\n",
       "      <td>1</td>\n",
       "    </tr>\n",
       "    <tr>\n",
       "      <th>4</th>\n",
       "      <td>892211106</td>\n",
       "      <td>32-38</td>\n",
       "      <td>France</td>\n",
       "      <td>1</td>\n",
       "      <td>4537</td>\n",
       "      <td>1</td>\n",
       "    </tr>\n",
       "    <tr>\n",
       "      <th>...</th>\n",
       "      <td>...</td>\n",
       "      <td>...</td>\n",
       "      <td>...</td>\n",
       "      <td>...</td>\n",
       "      <td>...</td>\n",
       "      <td>...</td>\n",
       "    </tr>\n",
       "    <tr>\n",
       "      <th>62</th>\n",
       "      <td>891312873</td>\n",
       "      <td>17-23</td>\n",
       "      <td>Italy</td>\n",
       "      <td>1</td>\n",
       "      <td>11778</td>\n",
       "      <td>1</td>\n",
       "    </tr>\n",
       "    <tr>\n",
       "      <th>63</th>\n",
       "      <td>891071157</td>\n",
       "      <td>17-23</td>\n",
       "      <td>United States of America</td>\n",
       "      <td>1</td>\n",
       "      <td>9100</td>\n",
       "      <td>1</td>\n",
       "    </tr>\n",
       "    <tr>\n",
       "      <th>64</th>\n",
       "      <td>891718167</td>\n",
       "      <td>24-31</td>\n",
       "      <td>Chile</td>\n",
       "      <td>1</td>\n",
       "      <td>8164</td>\n",
       "      <td>1</td>\n",
       "    </tr>\n",
       "    <tr>\n",
       "      <th>65</th>\n",
       "      <td>891969984</td>\n",
       "      <td>39-99</td>\n",
       "      <td>Argentina</td>\n",
       "      <td>1</td>\n",
       "      <td>5330</td>\n",
       "      <td>1</td>\n",
       "    </tr>\n",
       "    <tr>\n",
       "      <th>66</th>\n",
       "      <td>891291531</td>\n",
       "      <td>39-99</td>\n",
       "      <td>Germany</td>\n",
       "      <td>1</td>\n",
       "      <td>4056</td>\n",
       "      <td>1</td>\n",
       "    </tr>\n",
       "  </tbody>\n",
       "</table>\n",
       "<p>67 rows × 6 columns</p>\n",
       "</div>"
      ],
      "text/plain": [
       "          uid age_group                   country  gender  total_revenue  \\\n",
       "0   891152790     24-31                     Spain       1          12597   \n",
       "1   891589239     17-23                     Italy       1          37817   \n",
       "2   891806436     32-38                     Italy       1          12597   \n",
       "3   891882681     32-38                   Belgium       1          20410   \n",
       "4   892211106     32-38                    France       1           4537   \n",
       "..        ...       ...                       ...     ...            ...   \n",
       "62  891312873     17-23                     Italy       1          11778   \n",
       "63  891071157     17-23  United States of America       1           9100   \n",
       "64  891718167     24-31                     Chile       1           8164   \n",
       "65  891969984     39-99                 Argentina       1           5330   \n",
       "66  891291531     39-99                   Germany       1           4056   \n",
       "\n",
       "    payments_number  \n",
       "0                 1  \n",
       "1                 1  \n",
       "2                 1  \n",
       "3                 1  \n",
       "4                 1  \n",
       "..              ...  \n",
       "62                1  \n",
       "63                1  \n",
       "64                1  \n",
       "65                1  \n",
       "66                1  \n",
       "\n",
       "[67 rows x 6 columns]"
      ]
     },
     "execution_count": 73,
     "metadata": {},
     "output_type": "execute_result"
    }
   ],
   "source": [
    "premium_users_test = premium_users_test[['uid', 'age_group', 'country', 'gender', 'total_revenue', 'payments_number']]\n",
    "premium_users_test"
   ]
  },
  {
   "cell_type": "code",
   "execution_count": 74,
   "id": "79d87e69",
   "metadata": {},
   "outputs": [
    {
     "data": {
      "text/html": [
       "<div>\n",
       "<style scoped>\n",
       "    .dataframe tbody tr th:only-of-type {\n",
       "        vertical-align: middle;\n",
       "    }\n",
       "\n",
       "    .dataframe tbody tr th {\n",
       "        vertical-align: top;\n",
       "    }\n",
       "\n",
       "    .dataframe thead th {\n",
       "        text-align: right;\n",
       "    }\n",
       "</style>\n",
       "<table border=\"1\" class=\"dataframe\">\n",
       "  <thead>\n",
       "    <tr style=\"text-align: right;\">\n",
       "      <th></th>\n",
       "      <th>uid</th>\n",
       "      <th>age_group</th>\n",
       "      <th>country</th>\n",
       "      <th>gender</th>\n",
       "      <th>total_revenue</th>\n",
       "      <th>payments_number</th>\n",
       "    </tr>\n",
       "  </thead>\n",
       "  <tbody>\n",
       "    <tr>\n",
       "      <th>8</th>\n",
       "      <td>892097937</td>\n",
       "      <td>17-23</td>\n",
       "      <td>Chile</td>\n",
       "      <td>1</td>\n",
       "      <td>28535</td>\n",
       "      <td>3</td>\n",
       "    </tr>\n",
       "    <tr>\n",
       "      <th>33</th>\n",
       "      <td>892339626</td>\n",
       "      <td>32-38</td>\n",
       "      <td>United States of America</td>\n",
       "      <td>1</td>\n",
       "      <td>17758</td>\n",
       "      <td>3</td>\n",
       "    </tr>\n",
       "    <tr>\n",
       "      <th>40</th>\n",
       "      <td>892065108</td>\n",
       "      <td>39-99</td>\n",
       "      <td>France</td>\n",
       "      <td>1</td>\n",
       "      <td>47242</td>\n",
       "      <td>3</td>\n",
       "    </tr>\n",
       "    <tr>\n",
       "      <th>44</th>\n",
       "      <td>891725043</td>\n",
       "      <td>24-31</td>\n",
       "      <td>United Arab Emirates</td>\n",
       "      <td>1</td>\n",
       "      <td>18434</td>\n",
       "      <td>2</td>\n",
       "    </tr>\n",
       "    <tr>\n",
       "      <th>52</th>\n",
       "      <td>892261437</td>\n",
       "      <td>32-38</td>\n",
       "      <td>Italy</td>\n",
       "      <td>1</td>\n",
       "      <td>3835</td>\n",
       "      <td>2</td>\n",
       "    </tr>\n",
       "    <tr>\n",
       "      <th>60</th>\n",
       "      <td>891861048</td>\n",
       "      <td>32-38</td>\n",
       "      <td>Canada</td>\n",
       "      <td>1</td>\n",
       "      <td>21359</td>\n",
       "      <td>2</td>\n",
       "    </tr>\n",
       "  </tbody>\n",
       "</table>\n",
       "</div>"
      ],
      "text/plain": [
       "          uid age_group                   country  gender  total_revenue  \\\n",
       "8   892097937     17-23                     Chile       1          28535   \n",
       "33  892339626     32-38  United States of America       1          17758   \n",
       "40  892065108     39-99                    France       1          47242   \n",
       "44  891725043     24-31      United Arab Emirates       1          18434   \n",
       "52  892261437     32-38                     Italy       1           3835   \n",
       "60  891861048     32-38                    Canada       1          21359   \n",
       "\n",
       "    payments_number  \n",
       "8                 3  \n",
       "33                3  \n",
       "40                3  \n",
       "44                2  \n",
       "52                2  \n",
       "60                2  "
      ]
     },
     "execution_count": 74,
     "metadata": {},
     "output_type": "execute_result"
    }
   ],
   "source": [
    "premium_users_test.query('payments_number > 1')"
   ]
  },
  {
   "cell_type": "code",
   "execution_count": 75,
   "id": "e81f00f9",
   "metadata": {},
   "outputs": [
    {
     "data": {
      "text/html": [
       "<div>\n",
       "<style scoped>\n",
       "    .dataframe tbody tr th:only-of-type {\n",
       "        vertical-align: middle;\n",
       "    }\n",
       "\n",
       "    .dataframe tbody tr th {\n",
       "        vertical-align: top;\n",
       "    }\n",
       "\n",
       "    .dataframe thead th {\n",
       "        text-align: right;\n",
       "    }\n",
       "</style>\n",
       "<table border=\"1\" class=\"dataframe\">\n",
       "  <thead>\n",
       "    <tr style=\"text-align: right;\">\n",
       "      <th>age_group</th>\n",
       "      <th>17-23</th>\n",
       "      <th>24-31</th>\n",
       "      <th>32-38</th>\n",
       "      <th>39-99</th>\n",
       "    </tr>\n",
       "    <tr>\n",
       "      <th>country</th>\n",
       "      <th></th>\n",
       "      <th></th>\n",
       "      <th></th>\n",
       "      <th></th>\n",
       "    </tr>\n",
       "  </thead>\n",
       "  <tbody>\n",
       "    <tr>\n",
       "      <th>Argentina</th>\n",
       "      <td>NaN</td>\n",
       "      <td>NaN</td>\n",
       "      <td>44122.0</td>\n",
       "      <td>8073.0</td>\n",
       "    </tr>\n",
       "    <tr>\n",
       "      <th>Australia</th>\n",
       "      <td>NaN</td>\n",
       "      <td>12597.0</td>\n",
       "      <td>NaN</td>\n",
       "      <td>NaN</td>\n",
       "    </tr>\n",
       "    <tr>\n",
       "      <th>Belgium</th>\n",
       "      <td>NaN</td>\n",
       "      <td>NaN</td>\n",
       "      <td>20410.0</td>\n",
       "      <td>NaN</td>\n",
       "    </tr>\n",
       "    <tr>\n",
       "      <th>Canada</th>\n",
       "      <td>NaN</td>\n",
       "      <td>4706.0</td>\n",
       "      <td>21359.0</td>\n",
       "      <td>12597.0</td>\n",
       "    </tr>\n",
       "    <tr>\n",
       "      <th>Chile</th>\n",
       "      <td>28535.000000</td>\n",
       "      <td>8216.0</td>\n",
       "      <td>24973.0</td>\n",
       "      <td>NaN</td>\n",
       "    </tr>\n",
       "    <tr>\n",
       "      <th>France</th>\n",
       "      <td>NaN</td>\n",
       "      <td>7930.0</td>\n",
       "      <td>18024.5</td>\n",
       "      <td>47242.0</td>\n",
       "    </tr>\n",
       "    <tr>\n",
       "      <th>Germany</th>\n",
       "      <td>NaN</td>\n",
       "      <td>NaN</td>\n",
       "      <td>6279.0</td>\n",
       "      <td>4056.0</td>\n",
       "    </tr>\n",
       "    <tr>\n",
       "      <th>Israel</th>\n",
       "      <td>NaN</td>\n",
       "      <td>21645.0</td>\n",
       "      <td>NaN</td>\n",
       "      <td>16380.0</td>\n",
       "    </tr>\n",
       "    <tr>\n",
       "      <th>Italy</th>\n",
       "      <td>20730.666667</td>\n",
       "      <td>NaN</td>\n",
       "      <td>11934.0</td>\n",
       "      <td>1898.0</td>\n",
       "    </tr>\n",
       "    <tr>\n",
       "      <th>Latvia</th>\n",
       "      <td>NaN</td>\n",
       "      <td>NaN</td>\n",
       "      <td>10101.0</td>\n",
       "      <td>NaN</td>\n",
       "    </tr>\n",
       "    <tr>\n",
       "      <th>Mexico</th>\n",
       "      <td>6214.000000</td>\n",
       "      <td>NaN</td>\n",
       "      <td>NaN</td>\n",
       "      <td>NaN</td>\n",
       "    </tr>\n",
       "    <tr>\n",
       "      <th>Spain</th>\n",
       "      <td>6292.000000</td>\n",
       "      <td>8983.0</td>\n",
       "      <td>6155.5</td>\n",
       "      <td>129870.0</td>\n",
       "    </tr>\n",
       "    <tr>\n",
       "      <th>Turkey</th>\n",
       "      <td>9165.000000</td>\n",
       "      <td>NaN</td>\n",
       "      <td>NaN</td>\n",
       "      <td>NaN</td>\n",
       "    </tr>\n",
       "    <tr>\n",
       "      <th>United Arab Emirates</th>\n",
       "      <td>9217.000000</td>\n",
       "      <td>48971.0</td>\n",
       "      <td>8957.0</td>\n",
       "      <td>NaN</td>\n",
       "    </tr>\n",
       "    <tr>\n",
       "      <th>United Kingdom (Great Britain)</th>\n",
       "      <td>15574.000000</td>\n",
       "      <td>5954.0</td>\n",
       "      <td>10816.0</td>\n",
       "      <td>NaN</td>\n",
       "    </tr>\n",
       "    <tr>\n",
       "      <th>United States of America</th>\n",
       "      <td>24897.166667</td>\n",
       "      <td>8476.0</td>\n",
       "      <td>12064.0</td>\n",
       "      <td>14242.8</td>\n",
       "    </tr>\n",
       "  </tbody>\n",
       "</table>\n",
       "</div>"
      ],
      "text/plain": [
       "age_group                              17-23    24-31    32-38     39-99\n",
       "country                                                                 \n",
       "Argentina                                NaN      NaN  44122.0    8073.0\n",
       "Australia                                NaN  12597.0      NaN       NaN\n",
       "Belgium                                  NaN      NaN  20410.0       NaN\n",
       "Canada                                   NaN   4706.0  21359.0   12597.0\n",
       "Chile                           28535.000000   8216.0  24973.0       NaN\n",
       "France                                   NaN   7930.0  18024.5   47242.0\n",
       "Germany                                  NaN      NaN   6279.0    4056.0\n",
       "Israel                                   NaN  21645.0      NaN   16380.0\n",
       "Italy                           20730.666667      NaN  11934.0    1898.0\n",
       "Latvia                                   NaN      NaN  10101.0       NaN\n",
       "Mexico                           6214.000000      NaN      NaN       NaN\n",
       "Spain                            6292.000000   8983.0   6155.5  129870.0\n",
       "Turkey                           9165.000000      NaN      NaN       NaN\n",
       "United Arab Emirates             9217.000000  48971.0   8957.0       NaN\n",
       "United Kingdom (Great Britain)  15574.000000   5954.0  10816.0       NaN\n",
       "United States of America        24897.166667   8476.0  12064.0   14242.8"
      ]
     },
     "execution_count": 75,
     "metadata": {},
     "output_type": "execute_result"
    }
   ],
   "source": [
    "pd.pivot_table(premium_users_test, index = 'country', columns = 'age_group', values = 'total_revenue', aggfunc = 'mean')"
   ]
  },
  {
   "cell_type": "markdown",
   "id": "c81c49c3",
   "metadata": {},
   "source": [
    "Аналогично посмотрим на распределение пользователей премиум-подписки по возрастным группам в контрольной группе."
   ]
  },
  {
   "cell_type": "code",
   "execution_count": 76,
   "id": "5b0e8c61",
   "metadata": {},
   "outputs": [],
   "source": [
    "premium_control = transactions_control.query('product_type == \"premium_no_trial\"')\\\n",
    "                 .groupby('uid', as_index = False)\\\n",
    "                 .agg({'payment_id':'count'})\\\n",
    "                 .rename(columns = {'payment_id':'payments_number'})\n",
    "premium_users_control = users_control.merge(premium_control, on = 'uid')"
   ]
  },
  {
   "cell_type": "code",
   "execution_count": 82,
   "id": "50853116",
   "metadata": {},
   "outputs": [
    {
     "data": {
      "text/html": [
       "<div>\n",
       "<style scoped>\n",
       "    .dataframe tbody tr th:only-of-type {\n",
       "        vertical-align: middle;\n",
       "    }\n",
       "\n",
       "    .dataframe tbody tr th {\n",
       "        vertical-align: top;\n",
       "    }\n",
       "\n",
       "    .dataframe thead th {\n",
       "        text-align: right;\n",
       "    }\n",
       "</style>\n",
       "<table border=\"1\" class=\"dataframe\">\n",
       "  <thead>\n",
       "    <tr style=\"text-align: right;\">\n",
       "      <th></th>\n",
       "      <th>uid</th>\n",
       "      <th>age_group</th>\n",
       "      <th>country</th>\n",
       "      <th>gender</th>\n",
       "      <th>total_revenue</th>\n",
       "      <th>payments_number</th>\n",
       "    </tr>\n",
       "  </thead>\n",
       "  <tbody>\n",
       "    <tr>\n",
       "      <th>3</th>\n",
       "      <td>891264903</td>\n",
       "      <td>17-23</td>\n",
       "      <td>United States of America</td>\n",
       "      <td>1</td>\n",
       "      <td>7761</td>\n",
       "      <td>2</td>\n",
       "    </tr>\n",
       "    <tr>\n",
       "      <th>21</th>\n",
       "      <td>892101909</td>\n",
       "      <td>24-31</td>\n",
       "      <td>France</td>\n",
       "      <td>1</td>\n",
       "      <td>14508</td>\n",
       "      <td>2</td>\n",
       "    </tr>\n",
       "    <tr>\n",
       "      <th>28</th>\n",
       "      <td>891822480</td>\n",
       "      <td>24-31</td>\n",
       "      <td>Italy</td>\n",
       "      <td>1</td>\n",
       "      <td>17810</td>\n",
       "      <td>2</td>\n",
       "    </tr>\n",
       "    <tr>\n",
       "      <th>35</th>\n",
       "      <td>892366260</td>\n",
       "      <td>24-31</td>\n",
       "      <td>United Kingdom (Great Britain)</td>\n",
       "      <td>1</td>\n",
       "      <td>63024</td>\n",
       "      <td>2</td>\n",
       "    </tr>\n",
       "    <tr>\n",
       "      <th>39</th>\n",
       "      <td>892393119</td>\n",
       "      <td>24-31</td>\n",
       "      <td>Italy</td>\n",
       "      <td>1</td>\n",
       "      <td>3614</td>\n",
       "      <td>2</td>\n",
       "    </tr>\n",
       "    <tr>\n",
       "      <th>56</th>\n",
       "      <td>892290105</td>\n",
       "      <td>17-23</td>\n",
       "      <td>United States of America</td>\n",
       "      <td>1</td>\n",
       "      <td>12090</td>\n",
       "      <td>2</td>\n",
       "    </tr>\n",
       "    <tr>\n",
       "      <th>88</th>\n",
       "      <td>891216033</td>\n",
       "      <td>17-23</td>\n",
       "      <td>United States of America</td>\n",
       "      <td>1</td>\n",
       "      <td>12584</td>\n",
       "      <td>2</td>\n",
       "    </tr>\n",
       "    <tr>\n",
       "      <th>105</th>\n",
       "      <td>891219540</td>\n",
       "      <td>24-31</td>\n",
       "      <td>Australia</td>\n",
       "      <td>1</td>\n",
       "      <td>9438</td>\n",
       "      <td>2</td>\n",
       "    </tr>\n",
       "    <tr>\n",
       "      <th>118</th>\n",
       "      <td>892139829</td>\n",
       "      <td>24-31</td>\n",
       "      <td>United Kingdom (Great Britain)</td>\n",
       "      <td>1</td>\n",
       "      <td>22243</td>\n",
       "      <td>3</td>\n",
       "    </tr>\n",
       "    <tr>\n",
       "      <th>146</th>\n",
       "      <td>891637005</td>\n",
       "      <td>39-99</td>\n",
       "      <td>Spain</td>\n",
       "      <td>1</td>\n",
       "      <td>34125</td>\n",
       "      <td>2</td>\n",
       "    </tr>\n",
       "    <tr>\n",
       "      <th>172</th>\n",
       "      <td>892435536</td>\n",
       "      <td>17-23</td>\n",
       "      <td>United States of America</td>\n",
       "      <td>1</td>\n",
       "      <td>13598</td>\n",
       "      <td>2</td>\n",
       "    </tr>\n",
       "  </tbody>\n",
       "</table>\n",
       "</div>"
      ],
      "text/plain": [
       "           uid age_group                         country  gender  \\\n",
       "3    891264903     17-23        United States of America       1   \n",
       "21   892101909     24-31                          France       1   \n",
       "28   891822480     24-31                           Italy       1   \n",
       "35   892366260     24-31  United Kingdom (Great Britain)       1   \n",
       "39   892393119     24-31                           Italy       1   \n",
       "56   892290105     17-23        United States of America       1   \n",
       "88   891216033     17-23        United States of America       1   \n",
       "105  891219540     24-31                       Australia       1   \n",
       "118  892139829     24-31  United Kingdom (Great Britain)       1   \n",
       "146  891637005     39-99                           Spain       1   \n",
       "172  892435536     17-23        United States of America       1   \n",
       "\n",
       "     total_revenue  payments_number  \n",
       "3             7761                2  \n",
       "21           14508                2  \n",
       "28           17810                2  \n",
       "35           63024                2  \n",
       "39            3614                2  \n",
       "56           12090                2  \n",
       "88           12584                2  \n",
       "105           9438                2  \n",
       "118          22243                3  \n",
       "146          34125                2  \n",
       "172          13598                2  "
      ]
     },
     "execution_count": 82,
     "metadata": {},
     "output_type": "execute_result"
    }
   ],
   "source": [
    "premium_users_control.query('payments_number > 1')"
   ]
  },
  {
   "cell_type": "code",
   "execution_count": 77,
   "id": "4484bad8",
   "metadata": {},
   "outputs": [],
   "source": [
    "premium_users_control['age_group'] = pd.cut(premium_users_control.age, bins=[0, 23, 31, 38, 99], labels = ['17-23', '24-31', '32-38', '39-99'])"
   ]
  },
  {
   "cell_type": "code",
   "execution_count": 78,
   "id": "e17fefe5",
   "metadata": {},
   "outputs": [
    {
     "data": {
      "text/html": [
       "<div>\n",
       "<style scoped>\n",
       "    .dataframe tbody tr th:only-of-type {\n",
       "        vertical-align: middle;\n",
       "    }\n",
       "\n",
       "    .dataframe tbody tr th {\n",
       "        vertical-align: top;\n",
       "    }\n",
       "\n",
       "    .dataframe thead th {\n",
       "        text-align: right;\n",
       "    }\n",
       "</style>\n",
       "<table border=\"1\" class=\"dataframe\">\n",
       "  <thead>\n",
       "    <tr style=\"text-align: right;\">\n",
       "      <th>age_group</th>\n",
       "      <th>17-23</th>\n",
       "      <th>24-31</th>\n",
       "      <th>32-38</th>\n",
       "      <th>39-99</th>\n",
       "    </tr>\n",
       "    <tr>\n",
       "      <th>country</th>\n",
       "      <th></th>\n",
       "      <th></th>\n",
       "      <th></th>\n",
       "      <th></th>\n",
       "    </tr>\n",
       "  </thead>\n",
       "  <tbody>\n",
       "    <tr>\n",
       "      <th>Argentina</th>\n",
       "      <td>9986.600000</td>\n",
       "      <td>14511.250000</td>\n",
       "      <td>7553.000000</td>\n",
       "      <td>9613.500000</td>\n",
       "    </tr>\n",
       "    <tr>\n",
       "      <th>Australia</th>\n",
       "      <td>NaN</td>\n",
       "      <td>9438.000000</td>\n",
       "      <td>3588.000000</td>\n",
       "      <td>NaN</td>\n",
       "    </tr>\n",
       "    <tr>\n",
       "      <th>Austria</th>\n",
       "      <td>NaN</td>\n",
       "      <td>NaN</td>\n",
       "      <td>12168.000000</td>\n",
       "      <td>NaN</td>\n",
       "    </tr>\n",
       "    <tr>\n",
       "      <th>Belgium</th>\n",
       "      <td>8450.000000</td>\n",
       "      <td>6272.500000</td>\n",
       "      <td>NaN</td>\n",
       "      <td>5297.500000</td>\n",
       "    </tr>\n",
       "    <tr>\n",
       "      <th>Canada</th>\n",
       "      <td>NaN</td>\n",
       "      <td>8710.000000</td>\n",
       "      <td>4706.000000</td>\n",
       "      <td>NaN</td>\n",
       "    </tr>\n",
       "    <tr>\n",
       "      <th>Chile</th>\n",
       "      <td>11966.500000</td>\n",
       "      <td>8037.250000</td>\n",
       "      <td>13708.500000</td>\n",
       "      <td>11336.000000</td>\n",
       "    </tr>\n",
       "    <tr>\n",
       "      <th>France</th>\n",
       "      <td>9656.833333</td>\n",
       "      <td>6308.900000</td>\n",
       "      <td>4637.750000</td>\n",
       "      <td>NaN</td>\n",
       "    </tr>\n",
       "    <tr>\n",
       "      <th>Germany</th>\n",
       "      <td>3601.000000</td>\n",
       "      <td>5889.000000</td>\n",
       "      <td>14113.666667</td>\n",
       "      <td>6292.000000</td>\n",
       "    </tr>\n",
       "    <tr>\n",
       "      <th>India</th>\n",
       "      <td>NaN</td>\n",
       "      <td>4914.000000</td>\n",
       "      <td>NaN</td>\n",
       "      <td>4706.000000</td>\n",
       "    </tr>\n",
       "    <tr>\n",
       "      <th>Israel</th>\n",
       "      <td>NaN</td>\n",
       "      <td>8868.166667</td>\n",
       "      <td>10081.500000</td>\n",
       "      <td>6100.250000</td>\n",
       "    </tr>\n",
       "    <tr>\n",
       "      <th>Italy</th>\n",
       "      <td>102811.800000</td>\n",
       "      <td>10499.666667</td>\n",
       "      <td>4879.333333</td>\n",
       "      <td>12503.833333</td>\n",
       "    </tr>\n",
       "    <tr>\n",
       "      <th>Portugal</th>\n",
       "      <td>NaN</td>\n",
       "      <td>8866.000000</td>\n",
       "      <td>7969.000000</td>\n",
       "      <td>7319.000000</td>\n",
       "    </tr>\n",
       "    <tr>\n",
       "      <th>Spain</th>\n",
       "      <td>6987.500000</td>\n",
       "      <td>24856.000000</td>\n",
       "      <td>7182.500000</td>\n",
       "      <td>11874.571429</td>\n",
       "    </tr>\n",
       "    <tr>\n",
       "      <th>Switzerland</th>\n",
       "      <td>NaN</td>\n",
       "      <td>7527.000000</td>\n",
       "      <td>10192.000000</td>\n",
       "      <td>NaN</td>\n",
       "    </tr>\n",
       "    <tr>\n",
       "      <th>Turkey</th>\n",
       "      <td>33325.500000</td>\n",
       "      <td>13026.000000</td>\n",
       "      <td>NaN</td>\n",
       "      <td>NaN</td>\n",
       "    </tr>\n",
       "    <tr>\n",
       "      <th>Ukraine</th>\n",
       "      <td>NaN</td>\n",
       "      <td>NaN</td>\n",
       "      <td>NaN</td>\n",
       "      <td>8879.000000</td>\n",
       "    </tr>\n",
       "    <tr>\n",
       "      <th>United Arab Emirates</th>\n",
       "      <td>4537.000000</td>\n",
       "      <td>25545.000000</td>\n",
       "      <td>6292.000000</td>\n",
       "      <td>NaN</td>\n",
       "    </tr>\n",
       "    <tr>\n",
       "      <th>United Kingdom (Great Britain)</th>\n",
       "      <td>6292.000000</td>\n",
       "      <td>18022.333333</td>\n",
       "      <td>11186.500000</td>\n",
       "      <td>6812.000000</td>\n",
       "    </tr>\n",
       "    <tr>\n",
       "      <th>United States of America</th>\n",
       "      <td>12782.095238</td>\n",
       "      <td>6672.714286</td>\n",
       "      <td>11869.000000</td>\n",
       "      <td>13211.250000</td>\n",
       "    </tr>\n",
       "  </tbody>\n",
       "</table>\n",
       "</div>"
      ],
      "text/plain": [
       "age_group                               17-23         24-31         32-38  \\\n",
       "country                                                                     \n",
       "Argentina                         9986.600000  14511.250000   7553.000000   \n",
       "Australia                                 NaN   9438.000000   3588.000000   \n",
       "Austria                                   NaN           NaN  12168.000000   \n",
       "Belgium                           8450.000000   6272.500000           NaN   \n",
       "Canada                                    NaN   8710.000000   4706.000000   \n",
       "Chile                            11966.500000   8037.250000  13708.500000   \n",
       "France                            9656.833333   6308.900000   4637.750000   \n",
       "Germany                           3601.000000   5889.000000  14113.666667   \n",
       "India                                     NaN   4914.000000           NaN   \n",
       "Israel                                    NaN   8868.166667  10081.500000   \n",
       "Italy                           102811.800000  10499.666667   4879.333333   \n",
       "Portugal                                  NaN   8866.000000   7969.000000   \n",
       "Spain                             6987.500000  24856.000000   7182.500000   \n",
       "Switzerland                               NaN   7527.000000  10192.000000   \n",
       "Turkey                           33325.500000  13026.000000           NaN   \n",
       "Ukraine                                   NaN           NaN           NaN   \n",
       "United Arab Emirates              4537.000000  25545.000000   6292.000000   \n",
       "United Kingdom (Great Britain)    6292.000000  18022.333333  11186.500000   \n",
       "United States of America         12782.095238   6672.714286  11869.000000   \n",
       "\n",
       "age_group                              39-99  \n",
       "country                                       \n",
       "Argentina                        9613.500000  \n",
       "Australia                                NaN  \n",
       "Austria                                  NaN  \n",
       "Belgium                          5297.500000  \n",
       "Canada                                   NaN  \n",
       "Chile                           11336.000000  \n",
       "France                                   NaN  \n",
       "Germany                          6292.000000  \n",
       "India                            4706.000000  \n",
       "Israel                           6100.250000  \n",
       "Italy                           12503.833333  \n",
       "Portugal                         7319.000000  \n",
       "Spain                           11874.571429  \n",
       "Switzerland                              NaN  \n",
       "Turkey                                   NaN  \n",
       "Ukraine                          8879.000000  \n",
       "United Arab Emirates                     NaN  \n",
       "United Kingdom (Great Britain)   6812.000000  \n",
       "United States of America        13211.250000  "
      ]
     },
     "execution_count": 78,
     "metadata": {},
     "output_type": "execute_result"
    }
   ],
   "source": [
    "premium_users_control = premium_users_control[['uid', 'age_group', 'country', 'gender', 'total_revenue', 'payments_number']]\n",
    "pd.pivot_table(premium_users_control, index = 'country', columns = 'age_group', values = 'total_revenue', aggfunc = 'mean')"
   ]
  },
  {
   "cell_type": "markdown",
   "id": "e802c5e3",
   "metadata": {},
   "source": [
    "### Итоги"
   ]
  },
  {
   "cell_type": "markdown",
   "id": "c21efef7",
   "metadata": {},
   "source": [
    "В целом эксперимент по изменению стоимости премиум-подписки не был успешен. Возможно были допущены ошибки при планировании проекта, возможно выборки не репрезентативные. Среди пользователей данного приложения как в тестовой группе, так и в контрольной гораздо популярнее внутренняя валюта, чем премиум-подписка. Однако есть и страны, где это не так, например ОАЭ, Великобритания, Испания. Возможно для этого сегмента имеет смысл изменить стоимость подписки."
   ]
  }
 ],
 "metadata": {
  "kernelspec": {
   "display_name": "Python 3",
   "language": "python",
   "name": "python3"
  },
  "language_info": {
   "codemirror_mode": {
    "name": "ipython",
    "version": 3
   },
   "file_extension": ".py",
   "mimetype": "text/x-python",
   "name": "python",
   "nbconvert_exporter": "python",
   "pygments_lexer": "ipython3",
   "version": "3.8.8"
  }
 },
 "nbformat": 4,
 "nbformat_minor": 5
}
